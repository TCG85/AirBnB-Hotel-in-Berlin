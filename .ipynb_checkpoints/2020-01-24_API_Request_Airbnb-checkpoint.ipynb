{
 "cells": [
  {
   "cell_type": "markdown",
   "metadata": {},
   "source": [
    "### Resources"
   ]
  },
  {
   "cell_type": "markdown",
   "metadata": {},
   "source": [
    "Website: https://public.opendatasoft.com/explore/dataset/airbnb-listings/api/?disjunctive.host_verifications&disjunctive.amenities&disjunctive.features&rows=10000&refine.city=Berlin\n",
    "\n",
    "API documentation: https://help.opendatasoft.com/apis/ods-search-v1/#search-api-v1\n"
   ]
  },
  {
   "cell_type": "markdown",
   "metadata": {},
   "source": [
    "### Import libraries"
   ]
  },
  {
   "cell_type": "code",
   "execution_count": 1,
   "metadata": {},
   "outputs": [],
   "source": [
    "import pandas as pd\n",
    "import requests\n",
    "import json\n",
    "import matplotlib\n",
    "from currency_converter import CurrencyConverter # for currency conversion\n",
    "from datetime import date # to set date of ciurrency conversion\n",
    "\n",
    "%matplotlib inline"
   ]
  },
  {
   "cell_type": "markdown",
   "metadata": {},
   "source": [
    "### Define API"
   ]
  },
  {
   "cell_type": "code",
   "execution_count": 2,
   "metadata": {},
   "outputs": [],
   "source": [
    "# get only listings in Berlin, Germany bei adding \"&refine.city=Berlin\"\n",
    "url = \"https://public.opendatasoft.com/api/records/1.0/search/?dataset=airbnb-listings&rows=10000&facet=host_verifications&facet=city&facet=country&facet=property_type&facet=room_type&facet=bed_type&refine.city=Berlin\"\n",
    "headers = {\"accept\": \"application/json\"}"
   ]
  },
  {
   "cell_type": "code",
   "execution_count": 3,
   "metadata": {},
   "outputs": [],
   "source": [
    "r = requests.get(url, headers=headers)"
   ]
  },
  {
   "cell_type": "code",
   "execution_count": 4,
   "metadata": {},
   "outputs": [
    {
     "data": {
      "text/plain": [
       "<Response [200]>"
      ]
     },
     "execution_count": 4,
     "metadata": {},
     "output_type": "execute_result"
    }
   ],
   "source": [
    "r"
   ]
  },
  {
   "cell_type": "code",
   "execution_count": 5,
   "metadata": {},
   "outputs": [],
   "source": [
    "# r.text - not running this command to increase performance of file"
   ]
  },
  {
   "cell_type": "code",
   "execution_count": 6,
   "metadata": {},
   "outputs": [],
   "source": [
    "# r.json() - not running this command to increase performance of file"
   ]
  },
  {
   "cell_type": "markdown",
   "metadata": {},
   "source": [
    "### Checking types"
   ]
  },
  {
   "cell_type": "code",
   "execution_count": 7,
   "metadata": {},
   "outputs": [
    {
     "data": {
      "text/plain": [
       "dict"
      ]
     },
     "execution_count": 7,
     "metadata": {},
     "output_type": "execute_result"
    }
   ],
   "source": [
    "type(r.json())"
   ]
  },
  {
   "cell_type": "code",
   "execution_count": 8,
   "metadata": {},
   "outputs": [
    {
     "data": {
      "text/plain": [
       "dict_keys(['nhits', 'parameters', 'records', 'facet_groups'])"
      ]
     },
     "execution_count": 8,
     "metadata": {},
     "output_type": "execute_result"
    }
   ],
   "source": [
    "r.json().keys()"
   ]
  },
  {
   "cell_type": "code",
   "execution_count": 9,
   "metadata": {},
   "outputs": [
    {
     "data": {
      "text/plain": [
       "int"
      ]
     },
     "execution_count": 9,
     "metadata": {},
     "output_type": "execute_result"
    }
   ],
   "source": [
    "type(r.json()[\"nhits\"])"
   ]
  },
  {
   "cell_type": "code",
   "execution_count": 10,
   "metadata": {},
   "outputs": [
    {
     "data": {
      "text/plain": [
       "dict"
      ]
     },
     "execution_count": 10,
     "metadata": {},
     "output_type": "execute_result"
    }
   ],
   "source": [
    "type(r.json()[\"parameters\"])"
   ]
  },
  {
   "cell_type": "code",
   "execution_count": 11,
   "metadata": {},
   "outputs": [
    {
     "data": {
      "text/plain": [
       "list"
      ]
     },
     "execution_count": 11,
     "metadata": {},
     "output_type": "execute_result"
    }
   ],
   "source": [
    "type(r.json()[\"records\"])"
   ]
  },
  {
   "cell_type": "code",
   "execution_count": 12,
   "metadata": {},
   "outputs": [
    {
     "data": {
      "text/plain": [
       "list"
      ]
     },
     "execution_count": 12,
     "metadata": {},
     "output_type": "execute_result"
    }
   ],
   "source": [
    "type(r.json()[\"facet_groups\"])"
   ]
  },
  {
   "cell_type": "markdown",
   "metadata": {},
   "source": [
    "### Checking list types to convert these into dataframes (in case they include the data needed)"
   ]
  },
  {
   "cell_type": "code",
   "execution_count": 13,
   "metadata": {},
   "outputs": [],
   "source": [
    "parameters = pd.DataFrame(r.json()[\"parameters\"])"
   ]
  },
  {
   "cell_type": "code",
   "execution_count": 14,
   "metadata": {},
   "outputs": [
    {
     "data": {
      "text/html": [
       "<div>\n",
       "<style scoped>\n",
       "    .dataframe tbody tr th:only-of-type {\n",
       "        vertical-align: middle;\n",
       "    }\n",
       "\n",
       "    .dataframe tbody tr th {\n",
       "        vertical-align: top;\n",
       "    }\n",
       "\n",
       "    .dataframe thead th {\n",
       "        text-align: right;\n",
       "    }\n",
       "</style>\n",
       "<table border=\"1\" class=\"dataframe\">\n",
       "  <thead>\n",
       "    <tr style=\"text-align: right;\">\n",
       "      <th></th>\n",
       "      <th>dataset</th>\n",
       "      <th>timezone</th>\n",
       "      <th>rows</th>\n",
       "      <th>format</th>\n",
       "      <th>facet</th>\n",
       "    </tr>\n",
       "  </thead>\n",
       "  <tbody>\n",
       "    <tr>\n",
       "      <td>0</td>\n",
       "      <td>airbnb-listings</td>\n",
       "      <td>UTC</td>\n",
       "      <td>10000</td>\n",
       "      <td>json</td>\n",
       "      <td>host_verifications</td>\n",
       "    </tr>\n",
       "    <tr>\n",
       "      <td>1</td>\n",
       "      <td>airbnb-listings</td>\n",
       "      <td>UTC</td>\n",
       "      <td>10000</td>\n",
       "      <td>json</td>\n",
       "      <td>city</td>\n",
       "    </tr>\n",
       "    <tr>\n",
       "      <td>2</td>\n",
       "      <td>airbnb-listings</td>\n",
       "      <td>UTC</td>\n",
       "      <td>10000</td>\n",
       "      <td>json</td>\n",
       "      <td>country</td>\n",
       "    </tr>\n",
       "    <tr>\n",
       "      <td>3</td>\n",
       "      <td>airbnb-listings</td>\n",
       "      <td>UTC</td>\n",
       "      <td>10000</td>\n",
       "      <td>json</td>\n",
       "      <td>property_type</td>\n",
       "    </tr>\n",
       "    <tr>\n",
       "      <td>4</td>\n",
       "      <td>airbnb-listings</td>\n",
       "      <td>UTC</td>\n",
       "      <td>10000</td>\n",
       "      <td>json</td>\n",
       "      <td>room_type</td>\n",
       "    </tr>\n",
       "    <tr>\n",
       "      <td>5</td>\n",
       "      <td>airbnb-listings</td>\n",
       "      <td>UTC</td>\n",
       "      <td>10000</td>\n",
       "      <td>json</td>\n",
       "      <td>bed_type</td>\n",
       "    </tr>\n",
       "  </tbody>\n",
       "</table>\n",
       "</div>"
      ],
      "text/plain": [
       "           dataset timezone   rows format               facet\n",
       "0  airbnb-listings      UTC  10000   json  host_verifications\n",
       "1  airbnb-listings      UTC  10000   json                city\n",
       "2  airbnb-listings      UTC  10000   json             country\n",
       "3  airbnb-listings      UTC  10000   json       property_type\n",
       "4  airbnb-listings      UTC  10000   json           room_type\n",
       "5  airbnb-listings      UTC  10000   json            bed_type"
      ]
     },
     "execution_count": 14,
     "metadata": {},
     "output_type": "execute_result"
    }
   ],
   "source": [
    "parameters"
   ]
  },
  {
   "cell_type": "code",
   "execution_count": 15,
   "metadata": {},
   "outputs": [],
   "source": [
    "records = pd.DataFrame(r.json()[\"records\"])"
   ]
  },
  {
   "cell_type": "code",
   "execution_count": 16,
   "metadata": {},
   "outputs": [
    {
     "data": {
      "text/html": [
       "<div>\n",
       "<style scoped>\n",
       "    .dataframe tbody tr th:only-of-type {\n",
       "        vertical-align: middle;\n",
       "    }\n",
       "\n",
       "    .dataframe tbody tr th {\n",
       "        vertical-align: top;\n",
       "    }\n",
       "\n",
       "    .dataframe thead th {\n",
       "        text-align: right;\n",
       "    }\n",
       "</style>\n",
       "<table border=\"1\" class=\"dataframe\">\n",
       "  <thead>\n",
       "    <tr style=\"text-align: right;\">\n",
       "      <th></th>\n",
       "      <th>datasetid</th>\n",
       "      <th>recordid</th>\n",
       "      <th>fields</th>\n",
       "      <th>geometry</th>\n",
       "      <th>record_timestamp</th>\n",
       "    </tr>\n",
       "  </thead>\n",
       "  <tbody>\n",
       "    <tr>\n",
       "      <td>0</td>\n",
       "      <td>airbnb-listings</td>\n",
       "      <td>bb8be9bb68e3707afd34330681bc98528d1b2e6c</td>\n",
       "      <td>{'geolocation': [52.48054210735575, 13.4358354...</td>\n",
       "      <td>{'type': 'Point', 'coordinates': [13.435835487...</td>\n",
       "      <td>2017-07-12T09:10:34.946000+00:00</td>\n",
       "    </tr>\n",
       "    <tr>\n",
       "      <td>1</td>\n",
       "      <td>airbnb-listings</td>\n",
       "      <td>409485a0eb562591220cfaba82557224cfed3564</td>\n",
       "      <td>{'review_scores_accuracy': 10, 'reviews_per_mo...</td>\n",
       "      <td>{'type': 'Point', 'coordinates': [13.439348091...</td>\n",
       "      <td>2017-07-12T09:10:34.946000+00:00</td>\n",
       "    </tr>\n",
       "    <tr>\n",
       "      <td>2</td>\n",
       "      <td>airbnb-listings</td>\n",
       "      <td>4bb6ddeb1668eae1c03aac92074d477fee7770e0</td>\n",
       "      <td>{'review_scores_accuracy': 10, 'reviews_per_mo...</td>\n",
       "      <td>{'type': 'Point', 'coordinates': [13.447508780...</td>\n",
       "      <td>2017-07-12T09:10:34.946000+00:00</td>\n",
       "    </tr>\n",
       "    <tr>\n",
       "      <td>3</td>\n",
       "      <td>airbnb-listings</td>\n",
       "      <td>e7a39046b934f79c2b8cacfa1c3687dcbd8ea308</td>\n",
       "      <td>{'review_scores_accuracy': 10, 'reviews_per_mo...</td>\n",
       "      <td>{'type': 'Point', 'coordinates': [13.447824889...</td>\n",
       "      <td>2017-07-12T09:10:34.946000+00:00</td>\n",
       "    </tr>\n",
       "    <tr>\n",
       "      <td>4</td>\n",
       "      <td>airbnb-listings</td>\n",
       "      <td>6cb1dad5bd38480231b953ab0076678305db633f</td>\n",
       "      <td>{'review_scores_accuracy': 10, 'reviews_per_mo...</td>\n",
       "      <td>{'type': 'Point', 'coordinates': [13.441572631...</td>\n",
       "      <td>2017-07-12T09:10:34.946000+00:00</td>\n",
       "    </tr>\n",
       "  </tbody>\n",
       "</table>\n",
       "</div>"
      ],
      "text/plain": [
       "         datasetid                                  recordid  \\\n",
       "0  airbnb-listings  bb8be9bb68e3707afd34330681bc98528d1b2e6c   \n",
       "1  airbnb-listings  409485a0eb562591220cfaba82557224cfed3564   \n",
       "2  airbnb-listings  4bb6ddeb1668eae1c03aac92074d477fee7770e0   \n",
       "3  airbnb-listings  e7a39046b934f79c2b8cacfa1c3687dcbd8ea308   \n",
       "4  airbnb-listings  6cb1dad5bd38480231b953ab0076678305db633f   \n",
       "\n",
       "                                              fields  \\\n",
       "0  {'geolocation': [52.48054210735575, 13.4358354...   \n",
       "1  {'review_scores_accuracy': 10, 'reviews_per_mo...   \n",
       "2  {'review_scores_accuracy': 10, 'reviews_per_mo...   \n",
       "3  {'review_scores_accuracy': 10, 'reviews_per_mo...   \n",
       "4  {'review_scores_accuracy': 10, 'reviews_per_mo...   \n",
       "\n",
       "                                            geometry  \\\n",
       "0  {'type': 'Point', 'coordinates': [13.435835487...   \n",
       "1  {'type': 'Point', 'coordinates': [13.439348091...   \n",
       "2  {'type': 'Point', 'coordinates': [13.447508780...   \n",
       "3  {'type': 'Point', 'coordinates': [13.447824889...   \n",
       "4  {'type': 'Point', 'coordinates': [13.441572631...   \n",
       "\n",
       "                   record_timestamp  \n",
       "0  2017-07-12T09:10:34.946000+00:00  \n",
       "1  2017-07-12T09:10:34.946000+00:00  \n",
       "2  2017-07-12T09:10:34.946000+00:00  \n",
       "3  2017-07-12T09:10:34.946000+00:00  \n",
       "4  2017-07-12T09:10:34.946000+00:00  "
      ]
     },
     "execution_count": 16,
     "metadata": {},
     "output_type": "execute_result"
    }
   ],
   "source": [
    "records.head()"
   ]
  },
  {
   "cell_type": "code",
   "execution_count": 17,
   "metadata": {},
   "outputs": [],
   "source": [
    "facet_groups = pd.DataFrame(r.json()[\"facet_groups\"])"
   ]
  },
  {
   "cell_type": "code",
   "execution_count": 18,
   "metadata": {},
   "outputs": [
    {
     "data": {
      "text/html": [
       "<div>\n",
       "<style scoped>\n",
       "    .dataframe tbody tr th:only-of-type {\n",
       "        vertical-align: middle;\n",
       "    }\n",
       "\n",
       "    .dataframe tbody tr th {\n",
       "        vertical-align: top;\n",
       "    }\n",
       "\n",
       "    .dataframe thead th {\n",
       "        text-align: right;\n",
       "    }\n",
       "</style>\n",
       "<table border=\"1\" class=\"dataframe\">\n",
       "  <thead>\n",
       "    <tr style=\"text-align: right;\">\n",
       "      <th></th>\n",
       "      <th>facets</th>\n",
       "      <th>name</th>\n",
       "    </tr>\n",
       "  </thead>\n",
       "  <tbody>\n",
       "    <tr>\n",
       "      <td>0</td>\n",
       "      <td>[{'count': 20454, 'path': 'Berlin', 'state': '...</td>\n",
       "      <td>city</td>\n",
       "    </tr>\n",
       "    <tr>\n",
       "      <td>1</td>\n",
       "      <td>[{'count': 19307, 'path': 'Real Bed', 'state':...</td>\n",
       "      <td>bed_type</td>\n",
       "    </tr>\n",
       "    <tr>\n",
       "      <td>2</td>\n",
       "      <td>[{'count': 20454, 'path': 'Germany', 'state': ...</td>\n",
       "      <td>country</td>\n",
       "    </tr>\n",
       "    <tr>\n",
       "      <td>3</td>\n",
       "      <td>[{'count': 20301, 'path': 'phone', 'state': 'd...</td>\n",
       "      <td>host_verifications</td>\n",
       "    </tr>\n",
       "    <tr>\n",
       "      <td>4</td>\n",
       "      <td>[{'count': 18651, 'path': 'Apartment', 'state'...</td>\n",
       "      <td>property_type</td>\n",
       "    </tr>\n",
       "    <tr>\n",
       "      <td>5</td>\n",
       "      <td>[{'count': 10224, 'path': 'Entire home/apt', '...</td>\n",
       "      <td>room_type</td>\n",
       "    </tr>\n",
       "  </tbody>\n",
       "</table>\n",
       "</div>"
      ],
      "text/plain": [
       "                                              facets                name\n",
       "0  [{'count': 20454, 'path': 'Berlin', 'state': '...                city\n",
       "1  [{'count': 19307, 'path': 'Real Bed', 'state':...            bed_type\n",
       "2  [{'count': 20454, 'path': 'Germany', 'state': ...             country\n",
       "3  [{'count': 20301, 'path': 'phone', 'state': 'd...  host_verifications\n",
       "4  [{'count': 18651, 'path': 'Apartment', 'state'...       property_type\n",
       "5  [{'count': 10224, 'path': 'Entire home/apt', '...           room_type"
      ]
     },
     "execution_count": 18,
     "metadata": {},
     "output_type": "execute_result"
    }
   ],
   "source": [
    "facet_groups"
   ]
  },
  {
   "cell_type": "markdown",
   "metadata": {},
   "source": [
    "## Convert fields from DataFrame records into DataFrame itself"
   ]
  },
  {
   "cell_type": "code",
   "execution_count": 19,
   "metadata": {
    "scrolled": false
   },
   "outputs": [],
   "source": [
    "# records.fields - not running this command to increase performance of file"
   ]
  },
  {
   "cell_type": "code",
   "execution_count": 20,
   "metadata": {},
   "outputs": [],
   "source": [
    "records_fields = records[\"fields\"]"
   ]
  },
  {
   "cell_type": "code",
   "execution_count": 21,
   "metadata": {},
   "outputs": [],
   "source": [
    "# list(records_fields) - not running this command to increase performance of file"
   ]
  },
  {
   "cell_type": "code",
   "execution_count": 22,
   "metadata": {},
   "outputs": [
    {
     "data": {
      "text/html": [
       "<div>\n",
       "<style scoped>\n",
       "    .dataframe tbody tr th:only-of-type {\n",
       "        vertical-align: middle;\n",
       "    }\n",
       "\n",
       "    .dataframe tbody tr th {\n",
       "        vertical-align: top;\n",
       "    }\n",
       "\n",
       "    .dataframe thead th {\n",
       "        text-align: right;\n",
       "    }\n",
       "</style>\n",
       "<table border=\"1\" class=\"dataframe\">\n",
       "  <thead>\n",
       "    <tr style=\"text-align: right;\">\n",
       "      <th></th>\n",
       "      <th>geolocation</th>\n",
       "      <th>bathrooms</th>\n",
       "      <th>features</th>\n",
       "      <th>cancellation_policy</th>\n",
       "      <th>accommodates</th>\n",
       "      <th>calendar_last_scraped</th>\n",
       "      <th>neighbourhood_cleansed</th>\n",
       "      <th>street</th>\n",
       "      <th>calendar_updated</th>\n",
       "      <th>country_code</th>\n",
       "      <th>...</th>\n",
       "      <th>host_response_time</th>\n",
       "      <th>host_response_rate</th>\n",
       "      <th>cleaning_fee</th>\n",
       "      <th>review_scores_rating</th>\n",
       "      <th>house_rules</th>\n",
       "      <th>square_feet</th>\n",
       "      <th>interaction</th>\n",
       "      <th>monthly_price</th>\n",
       "      <th>weekly_price</th>\n",
       "      <th>notes</th>\n",
       "    </tr>\n",
       "  </thead>\n",
       "  <tbody>\n",
       "    <tr>\n",
       "      <td>0</td>\n",
       "      <td>[52.48054210735575, 13.435835487092247]</td>\n",
       "      <td>1.0</td>\n",
       "      <td>Host Has Profile Pic</td>\n",
       "      <td>flexible</td>\n",
       "      <td>3</td>\n",
       "      <td>2017-05-08</td>\n",
       "      <td>Rixdorf</td>\n",
       "      <td>Berlin, Berlin 12043, Germany</td>\n",
       "      <td>16 months ago</td>\n",
       "      <td>DE</td>\n",
       "      <td>...</td>\n",
       "      <td>NaN</td>\n",
       "      <td>NaN</td>\n",
       "      <td>NaN</td>\n",
       "      <td>NaN</td>\n",
       "      <td>NaN</td>\n",
       "      <td>NaN</td>\n",
       "      <td>NaN</td>\n",
       "      <td>NaN</td>\n",
       "      <td>NaN</td>\n",
       "      <td>NaN</td>\n",
       "    </tr>\n",
       "    <tr>\n",
       "      <td>1</td>\n",
       "      <td>[52.479951086588564, 13.439348091158159]</td>\n",
       "      <td>1.0</td>\n",
       "      <td>Host Has Profile Pic,Host Identity Verified,Is Location Exact,Require Guest Profile Picture</td>\n",
       "      <td>moderate</td>\n",
       "      <td>2</td>\n",
       "      <td>2017-05-08</td>\n",
       "      <td>Rixdorf</td>\n",
       "      <td>Neukölln, Berlin, Berlin 12043, Germany</td>\n",
       "      <td>2 weeks ago</td>\n",
       "      <td>DE</td>\n",
       "      <td>...</td>\n",
       "      <td>within an hour</td>\n",
       "      <td>100.0</td>\n",
       "      <td>20.0</td>\n",
       "      <td>100.0</td>\n",
       "      <td>- Please, take off your shoes in the house. You can use the slippers.</td>\n",
       "      <td>NaN</td>\n",
       "      <td>NaN</td>\n",
       "      <td>NaN</td>\n",
       "      <td>NaN</td>\n",
       "      <td>NaN</td>\n",
       "    </tr>\n",
       "  </tbody>\n",
       "</table>\n",
       "<p>2 rows × 85 columns</p>\n",
       "</div>"
      ],
      "text/plain": [
       "                                geolocation  bathrooms  \\\n",
       "0  [52.48054210735575, 13.435835487092247]   1.0         \n",
       "1  [52.479951086588564, 13.439348091158159]  1.0         \n",
       "\n",
       "                                                                                      features  \\\n",
       "0  Host Has Profile Pic                                                                          \n",
       "1  Host Has Profile Pic,Host Identity Verified,Is Location Exact,Require Guest Profile Picture   \n",
       "\n",
       "  cancellation_policy  accommodates calendar_last_scraped  \\\n",
       "0  flexible            3             2017-05-08             \n",
       "1  moderate            2             2017-05-08             \n",
       "\n",
       "  neighbourhood_cleansed                                   street  \\\n",
       "0  Rixdorf                Berlin, Berlin 12043, Germany             \n",
       "1  Rixdorf                Neukölln, Berlin, Berlin 12043, Germany   \n",
       "\n",
       "  calendar_updated country_code  ... host_response_time  host_response_rate  \\\n",
       "0  16 months ago    DE           ...  NaN               NaN                   \n",
       "1  2 weeks ago      DE           ...  within an hour     100.0                \n",
       "\n",
       "  cleaning_fee review_scores_rating  \\\n",
       "0 NaN          NaN                    \n",
       "1  20.0         100.0                 \n",
       "\n",
       "                                                             house_rules  \\\n",
       "0  NaN                                                                     \n",
       "1  - Please, take off your shoes in the house. You can use the slippers.   \n",
       "\n",
       "   square_feet interaction monthly_price weekly_price  notes  \n",
       "0 NaN           NaN        NaN           NaN           NaN    \n",
       "1 NaN           NaN        NaN           NaN           NaN    \n",
       "\n",
       "[2 rows x 85 columns]"
      ]
     },
     "execution_count": 22,
     "metadata": {},
     "output_type": "execute_result"
    }
   ],
   "source": [
    "pd.set_option('display.max_colwidth', -1)\n",
    "#pd.DataFrame.from_dict(fields) \n",
    "fields = pd.DataFrame(list(records_fields))\n",
    "#fields = fields.drop_duplicates() # remove duplicates\n",
    "#fields.sort_values(by=['calendar_last_scraped'])\n",
    "fields.head(2)"
   ]
  },
  {
   "cell_type": "markdown",
   "metadata": {},
   "source": [
    "### Dropping columns that are not needed"
   ]
  },
  {
   "cell_type": "code",
   "execution_count": 23,
   "metadata": {},
   "outputs": [
    {
     "data": {
      "text/plain": [
       "Index(['geolocation', 'bathrooms', 'features', 'cancellation_policy',\n",
       "       'accommodates', 'calendar_last_scraped', 'neighbourhood_cleansed',\n",
       "       'street', 'calendar_updated', 'country_code', 'property_type',\n",
       "       'availability_365', 'id', 'market', 'city', 'availability_60',\n",
       "       'picture_url', 'zipcode', 'host_location', 'availability_90', 'state',\n",
       "       'amenities', 'host_listings_count', 'maximum_nights', 'listing_url',\n",
       "       'latitude', 'last_scraped', 'host_since', 'bedrooms', 'description',\n",
       "       'experiences_offered', 'price', 'host_picture_url', 'extra_people',\n",
       "       'smart_location', 'neighbourhood_group_cleansed', 'host_verifications',\n",
       "       'number_of_reviews', 'xl_picture_url', 'host_about', 'guests_included',\n",
       "       'host_url', 'host_id', 'availability_30',\n",
       "       'calculated_host_listings_count', 'name', 'medium_url', 'bed_type',\n",
       "       'country', 'longitude', 'summary', 'beds', 'minimum_nights',\n",
       "       'thumbnail_url', 'host_name', 'scrape_id', 'host_total_listings_count',\n",
       "       'host_thumbnail_url', 'room_type', 'review_scores_accuracy',\n",
       "       'reviews_per_month', 'first_review', 'transit', 'host_neighbourhood',\n",
       "       'review_scores_cleanliness', 'neighborhood_overview', 'space', 'access',\n",
       "       'security_deposit', 'review_scores_value', 'review_scores_location',\n",
       "       'review_scores_checkin', 'review_scores_communication', 'last_review',\n",
       "       'neighbourhood', 'host_response_time', 'host_response_rate',\n",
       "       'cleaning_fee', 'review_scores_rating', 'house_rules', 'square_feet',\n",
       "       'interaction', 'monthly_price', 'weekly_price', 'notes'],\n",
       "      dtype='object')"
      ]
     },
     "execution_count": 23,
     "metadata": {},
     "output_type": "execute_result"
    }
   ],
   "source": [
    "#List all columns\n",
    "fields.columns"
   ]
  },
  {
   "cell_type": "code",
   "execution_count": 24,
   "metadata": {},
   "outputs": [
    {
     "data": {
      "text/plain": [
       "geolocation                       0   \n",
       "bathrooms                         39  \n",
       "features                          10  \n",
       "cancellation_policy               0   \n",
       "accommodates                      0   \n",
       "calendar_last_scraped             0   \n",
       "neighbourhood_cleansed            0   \n",
       "street                            0   \n",
       "calendar_updated                  0   \n",
       "country_code                      0   \n",
       "property_type                     0   \n",
       "availability_365                  0   \n",
       "id                                0   \n",
       "market                            36  \n",
       "city                              0   \n",
       "availability_60                   0   \n",
       "picture_url                       19  \n",
       "zipcode                           360 \n",
       "host_location                     58  \n",
       "availability_90                   0   \n",
       "state                             27  \n",
       "amenities                         63  \n",
       "host_listings_count               6   \n",
       "maximum_nights                    0   \n",
       "listing_url                       0   \n",
       "latitude                          0   \n",
       "last_scraped                      0   \n",
       "host_since                        6   \n",
       "bedrooms                          9   \n",
       "description                       7   \n",
       "experiences_offered               0   \n",
       "price                             5   \n",
       "host_picture_url                  6   \n",
       "extra_people                      0   \n",
       "smart_location                    0   \n",
       "neighbourhood_group_cleansed      0   \n",
       "host_verifications                5   \n",
       "number_of_reviews                 0   \n",
       "xl_picture_url                    1041\n",
       "host_about                        5121\n",
       "guests_included                   0   \n",
       "host_url                          0   \n",
       "host_id                           0   \n",
       "availability_30                   0   \n",
       "calculated_host_listings_count    0   \n",
       "name                              53  \n",
       "medium_url                        1041\n",
       "bed_type                          0   \n",
       "country                           0   \n",
       "longitude                         0   \n",
       "summary                           470 \n",
       "beds                              16  \n",
       "minimum_nights                    0   \n",
       "thumbnail_url                     1041\n",
       "host_name                         6   \n",
       "scrape_id                         0   \n",
       "host_total_listings_count         6   \n",
       "host_thumbnail_url                6   \n",
       "room_type                         0   \n",
       "review_scores_accuracy            2355\n",
       "reviews_per_month                 2191\n",
       "first_review                      2191\n",
       "transit                           4302\n",
       "host_neighbourhood                2464\n",
       "review_scores_cleanliness         2350\n",
       "neighborhood_overview             5190\n",
       "space                             3778\n",
       "access                            5378\n",
       "security_deposit                  6374\n",
       "review_scores_value               2361\n",
       "review_scores_location            2357\n",
       "review_scores_checkin             2359\n",
       "review_scores_communication       2347\n",
       "last_review                       2191\n",
       "neighbourhood                     2726\n",
       "host_response_time                3285\n",
       "host_response_rate                3285\n",
       "cleaning_fee                      4176\n",
       "review_scores_rating              2328\n",
       "house_rules                       4658\n",
       "square_feet                       9701\n",
       "interaction                       5550\n",
       "monthly_price                     8195\n",
       "weekly_price                      7472\n",
       "notes                             7093\n",
       "dtype: int64"
      ]
     },
     "execution_count": 24,
     "metadata": {},
     "output_type": "execute_result"
    }
   ],
   "source": [
    "# Check NaNs to decide what to drop with regards to neighborhood\n",
    "pd.set_option('display.max_rows', 100)\n",
    "fields.isna().sum()\n",
    "\n",
    "# keep price, neighbourhood_group_cleansed, id, cleaning_fee"
   ]
  },
  {
   "cell_type": "code",
   "execution_count": 25,
   "metadata": {},
   "outputs": [],
   "source": [
    "# drop columns\n",
    "\n",
    "fields = (fields.drop(['geolocation', 'bathrooms', 'features', 'cancellation_policy',\n",
    "       'accommodates', 'calendar_last_scraped', 'neighbourhood_cleansed',\n",
    "       'street', 'calendar_updated', 'country_code', 'property_type',\n",
    "       'availability_365', 'market', 'city', 'availability_60',\n",
    "       'picture_url', 'zipcode', 'host_location', 'availability_90', 'state',\n",
    "       'amenities', 'host_listings_count', 'maximum_nights', 'listing_url',\n",
    "       'latitude', 'last_scraped', 'host_since', 'bedrooms', 'description',\n",
    "       'experiences_offered', 'host_picture_url', 'extra_people',\n",
    "       'smart_location', 'host_verifications',\n",
    "       'number_of_reviews', 'xl_picture_url', 'host_about', 'guests_included',\n",
    "       'host_url', 'host_id', 'availability_30',\n",
    "       'calculated_host_listings_count', 'name', 'medium_url', 'bed_type',\n",
    "       'country', 'longitude', 'summary', 'beds', 'minimum_nights',\n",
    "       'thumbnail_url', 'host_name', 'scrape_id', 'host_total_listings_count',\n",
    "       'host_thumbnail_url', 'room_type', 'review_scores_accuracy',\n",
    "       'reviews_per_month', 'first_review', 'transit', 'host_neighbourhood',\n",
    "       'review_scores_cleanliness', 'neighborhood_overview', 'space', 'access',\n",
    "       'security_deposit', 'review_scores_value', 'review_scores_location',\n",
    "       'review_scores_checkin', 'review_scores_communication', 'last_review',\n",
    "       'neighbourhood', 'host_response_time', 'host_response_rate',\n",
    "       'review_scores_rating', 'house_rules', 'square_feet',\n",
    "       'interaction', 'monthly_price', 'weekly_price', 'notes'], axis=1))"
   ]
  },
  {
   "cell_type": "code",
   "execution_count": 26,
   "metadata": {},
   "outputs": [
    {
     "data": {
      "text/html": [
       "<div>\n",
       "<style scoped>\n",
       "    .dataframe tbody tr th:only-of-type {\n",
       "        vertical-align: middle;\n",
       "    }\n",
       "\n",
       "    .dataframe tbody tr th {\n",
       "        vertical-align: top;\n",
       "    }\n",
       "\n",
       "    .dataframe thead th {\n",
       "        text-align: right;\n",
       "    }\n",
       "</style>\n",
       "<table border=\"1\" class=\"dataframe\">\n",
       "  <thead>\n",
       "    <tr style=\"text-align: right;\">\n",
       "      <th></th>\n",
       "      <th>id</th>\n",
       "      <th>price</th>\n",
       "      <th>neighbourhood_group_cleansed</th>\n",
       "      <th>cleaning_fee</th>\n",
       "    </tr>\n",
       "  </thead>\n",
       "  <tbody>\n",
       "    <tr>\n",
       "      <td>0</td>\n",
       "      <td>10103806</td>\n",
       "      <td>45.0</td>\n",
       "      <td>Neukölln</td>\n",
       "      <td>NaN</td>\n",
       "    </tr>\n",
       "    <tr>\n",
       "      <td>1</td>\n",
       "      <td>16187267</td>\n",
       "      <td>45.0</td>\n",
       "      <td>Neukölln</td>\n",
       "      <td>20.0</td>\n",
       "    </tr>\n",
       "    <tr>\n",
       "      <td>2</td>\n",
       "      <td>16247375</td>\n",
       "      <td>18.0</td>\n",
       "      <td>Neukölln</td>\n",
       "      <td>NaN</td>\n",
       "    </tr>\n",
       "    <tr>\n",
       "      <td>3</td>\n",
       "      <td>412418</td>\n",
       "      <td>50.0</td>\n",
       "      <td>Neukölln</td>\n",
       "      <td>20.0</td>\n",
       "    </tr>\n",
       "    <tr>\n",
       "      <td>4</td>\n",
       "      <td>6076066</td>\n",
       "      <td>65.0</td>\n",
       "      <td>Neukölln</td>\n",
       "      <td>15.0</td>\n",
       "    </tr>\n",
       "  </tbody>\n",
       "</table>\n",
       "</div>"
      ],
      "text/plain": [
       "         id  price neighbourhood_group_cleansed  cleaning_fee\n",
       "0  10103806  45.0   Neukölln                    NaN          \n",
       "1  16187267  45.0   Neukölln                     20.0        \n",
       "2  16247375  18.0   Neukölln                    NaN          \n",
       "3  412418    50.0   Neukölln                     20.0        \n",
       "4  6076066   65.0   Neukölln                     15.0        "
      ]
     },
     "execution_count": 26,
     "metadata": {},
     "output_type": "execute_result"
    }
   ],
   "source": [
    "fields.head()"
   ]
  },
  {
   "cell_type": "code",
   "execution_count": 27,
   "metadata": {
    "scrolled": true
   },
   "outputs": [
    {
     "data": {
      "text/plain": [
       "id                              0   \n",
       "price                           5   \n",
       "neighbourhood_group_cleansed    0   \n",
       "cleaning_fee                    4176\n",
       "dtype: int64"
      ]
     },
     "execution_count": 27,
     "metadata": {},
     "output_type": "execute_result"
    }
   ],
   "source": [
    "#check if Nans exist\n",
    "fields.isna().sum()"
   ]
  },
  {
   "cell_type": "code",
   "execution_count": 28,
   "metadata": {},
   "outputs": [],
   "source": [
    "# drop lines where price = NaN\n",
    "fields.dropna(subset=['price'], inplace=True)\n"
   ]
  },
  {
   "cell_type": "code",
   "execution_count": 29,
   "metadata": {},
   "outputs": [
    {
     "data": {
      "text/html": [
       "<div>\n",
       "<style scoped>\n",
       "    .dataframe tbody tr th:only-of-type {\n",
       "        vertical-align: middle;\n",
       "    }\n",
       "\n",
       "    .dataframe tbody tr th {\n",
       "        vertical-align: top;\n",
       "    }\n",
       "\n",
       "    .dataframe thead th {\n",
       "        text-align: right;\n",
       "    }\n",
       "</style>\n",
       "<table border=\"1\" class=\"dataframe\">\n",
       "  <thead>\n",
       "    <tr style=\"text-align: right;\">\n",
       "      <th></th>\n",
       "      <th>id</th>\n",
       "      <th>price</th>\n",
       "      <th>neighbourhood_group_cleansed</th>\n",
       "      <th>cleaning_fee</th>\n",
       "    </tr>\n",
       "  </thead>\n",
       "  <tbody>\n",
       "    <tr>\n",
       "      <td>1241</td>\n",
       "      <td>18537794</td>\n",
       "      <td>0.0</td>\n",
       "      <td>Charlottenburg-Wilm.</td>\n",
       "      <td>NaN</td>\n",
       "    </tr>\n",
       "    <tr>\n",
       "      <td>5258</td>\n",
       "      <td>18581047</td>\n",
       "      <td>0.0</td>\n",
       "      <td>Mitte</td>\n",
       "      <td>11.0</td>\n",
       "    </tr>\n",
       "    <tr>\n",
       "      <td>7422</td>\n",
       "      <td>18606311</td>\n",
       "      <td>0.0</td>\n",
       "      <td>Friedrichshain-Kreuzberg</td>\n",
       "      <td>10.0</td>\n",
       "    </tr>\n",
       "  </tbody>\n",
       "</table>\n",
       "</div>"
      ],
      "text/plain": [
       "            id  price neighbourhood_group_cleansed  cleaning_fee\n",
       "1241  18537794  0.0    Charlottenburg-Wilm.        NaN          \n",
       "5258  18581047  0.0    Mitte                        11.0        \n",
       "7422  18606311  0.0    Friedrichshain-Kreuzberg     10.0        "
      ]
     },
     "execution_count": 29,
     "metadata": {},
     "output_type": "execute_result"
    }
   ],
   "source": [
    "# show lines where price = 0\n",
    "fields[fields.price == 0]"
   ]
  },
  {
   "cell_type": "code",
   "execution_count": 30,
   "metadata": {},
   "outputs": [],
   "source": [
    "# drop lines where price = 0\n",
    "fields = fields[fields.price != 0]"
   ]
  },
  {
   "cell_type": "code",
   "execution_count": 31,
   "metadata": {},
   "outputs": [
    {
     "data": {
      "text/html": [
       "<div>\n",
       "<style scoped>\n",
       "    .dataframe tbody tr th:only-of-type {\n",
       "        vertical-align: middle;\n",
       "    }\n",
       "\n",
       "    .dataframe tbody tr th {\n",
       "        vertical-align: top;\n",
       "    }\n",
       "\n",
       "    .dataframe thead th {\n",
       "        text-align: right;\n",
       "    }\n",
       "</style>\n",
       "<table border=\"1\" class=\"dataframe\">\n",
       "  <thead>\n",
       "    <tr style=\"text-align: right;\">\n",
       "      <th></th>\n",
       "      <th>id</th>\n",
       "      <th>price</th>\n",
       "      <th>neighbourhood_group_cleansed</th>\n",
       "      <th>cleaning_fee</th>\n",
       "    </tr>\n",
       "  </thead>\n",
       "  <tbody>\n",
       "  </tbody>\n",
       "</table>\n",
       "</div>"
      ],
      "text/plain": [
       "Empty DataFrame\n",
       "Columns: [id, price, neighbourhood_group_cleansed, cleaning_fee]\n",
       "Index: []"
      ]
     },
     "execution_count": 31,
     "metadata": {},
     "output_type": "execute_result"
    }
   ],
   "source": [
    "# check if lines with prive = 0 replaced\n",
    "fields[fields.price == 0]"
   ]
  },
  {
   "cell_type": "code",
   "execution_count": 32,
   "metadata": {},
   "outputs": [],
   "source": [
    "# Replace NaN values in cleaning_fee with 0\n",
    "fields = fields.fillna(0)"
   ]
  },
  {
   "cell_type": "code",
   "execution_count": 33,
   "metadata": {},
   "outputs": [
    {
     "data": {
      "text/plain": [
       "id                              0\n",
       "price                           0\n",
       "neighbourhood_group_cleansed    0\n",
       "cleaning_fee                    0\n",
       "dtype: int64"
      ]
     },
     "execution_count": 33,
     "metadata": {},
     "output_type": "execute_result"
    }
   ],
   "source": [
    "# check if values with NaN were replaced:\n",
    "fields.isna().sum()"
   ]
  },
  {
   "cell_type": "code",
   "execution_count": 34,
   "metadata": {},
   "outputs": [
    {
     "data": {
      "text/html": [
       "<div>\n",
       "<style scoped>\n",
       "    .dataframe tbody tr th:only-of-type {\n",
       "        vertical-align: middle;\n",
       "    }\n",
       "\n",
       "    .dataframe tbody tr th {\n",
       "        vertical-align: top;\n",
       "    }\n",
       "\n",
       "    .dataframe thead th {\n",
       "        text-align: right;\n",
       "    }\n",
       "</style>\n",
       "<table border=\"1\" class=\"dataframe\">\n",
       "  <thead>\n",
       "    <tr style=\"text-align: right;\">\n",
       "      <th></th>\n",
       "      <th>price</th>\n",
       "      <th>cleaning_fee</th>\n",
       "    </tr>\n",
       "  </thead>\n",
       "  <tbody>\n",
       "    <tr>\n",
       "      <td>0</td>\n",
       "      <td>40</td>\n",
       "      <td>0</td>\n",
       "    </tr>\n",
       "    <tr>\n",
       "      <td>1</td>\n",
       "      <td>40</td>\n",
       "      <td>17</td>\n",
       "    </tr>\n",
       "    <tr>\n",
       "      <td>2</td>\n",
       "      <td>16</td>\n",
       "      <td>0</td>\n",
       "    </tr>\n",
       "    <tr>\n",
       "      <td>3</td>\n",
       "      <td>44</td>\n",
       "      <td>17</td>\n",
       "    </tr>\n",
       "    <tr>\n",
       "      <td>4</td>\n",
       "      <td>58</td>\n",
       "      <td>13</td>\n",
       "    </tr>\n",
       "    <tr>\n",
       "      <td>5</td>\n",
       "      <td>35</td>\n",
       "      <td>26</td>\n",
       "    </tr>\n",
       "    <tr>\n",
       "      <td>6</td>\n",
       "      <td>17</td>\n",
       "      <td>0</td>\n",
       "    </tr>\n",
       "    <tr>\n",
       "      <td>7</td>\n",
       "      <td>21</td>\n",
       "      <td>0</td>\n",
       "    </tr>\n",
       "    <tr>\n",
       "      <td>8</td>\n",
       "      <td>35</td>\n",
       "      <td>0</td>\n",
       "    </tr>\n",
       "    <tr>\n",
       "      <td>9</td>\n",
       "      <td>23</td>\n",
       "      <td>0</td>\n",
       "    </tr>\n",
       "  </tbody>\n",
       "</table>\n",
       "</div>"
      ],
      "text/plain": [
       "   price  cleaning_fee\n",
       "0  40     0           \n",
       "1  40     17          \n",
       "2  16     0           \n",
       "3  44     17          \n",
       "4  58     13          \n",
       "5  35     26          \n",
       "6  17     0           \n",
       "7  21     0           \n",
       "8  35     0           \n",
       "9  23     0           "
      ]
     },
     "execution_count": 34,
     "metadata": {},
     "output_type": "execute_result"
    }
   ],
   "source": [
    "#convert price from USD to EUR, using currency converter, rate as of 2020-01-08\n",
    "c = CurrencyConverter()\n",
    "fields['price'] = fields['price'].div(c.convert(1, 'EUR', 'USD', date=date(2020, 1, 8))) \n",
    "fields['price']=fields['price'].astype(int)\n",
    "\n",
    "\n",
    "fields['cleaning_fee'] = fields['cleaning_fee'].div(c.convert(1, 'EUR', 'USD', date=date(2020, 1, 8))) \n",
    "fields['cleaning_fee']=fields['cleaning_fee'].astype(int)\n",
    "fields[['price','cleaning_fee']].head(10)\n"
   ]
  },
  {
   "cell_type": "code",
   "execution_count": 35,
   "metadata": {},
   "outputs": [
    {
     "data": {
      "text/html": [
       "<div>\n",
       "<style scoped>\n",
       "    .dataframe tbody tr th:only-of-type {\n",
       "        vertical-align: middle;\n",
       "    }\n",
       "\n",
       "    .dataframe tbody tr th {\n",
       "        vertical-align: top;\n",
       "    }\n",
       "\n",
       "    .dataframe thead th {\n",
       "        text-align: right;\n",
       "    }\n",
       "</style>\n",
       "<table border=\"1\" class=\"dataframe\">\n",
       "  <thead>\n",
       "    <tr style=\"text-align: right;\">\n",
       "      <th></th>\n",
       "      <th>price</th>\n",
       "      <th>cleaning_fee</th>\n",
       "    </tr>\n",
       "  </thead>\n",
       "  <tbody>\n",
       "    <tr>\n",
       "      <td>count</td>\n",
       "      <td>9992.000000</td>\n",
       "      <td>9992.000000</td>\n",
       "    </tr>\n",
       "    <tr>\n",
       "      <td>mean</td>\n",
       "      <td>51.089572</td>\n",
       "      <td>13.946357</td>\n",
       "    </tr>\n",
       "    <tr>\n",
       "      <td>std</td>\n",
       "      <td>43.049383</td>\n",
       "      <td>17.722777</td>\n",
       "    </tr>\n",
       "    <tr>\n",
       "      <td>min</td>\n",
       "      <td>0.000000</td>\n",
       "      <td>0.000000</td>\n",
       "    </tr>\n",
       "    <tr>\n",
       "      <td>25%</td>\n",
       "      <td>26.000000</td>\n",
       "      <td>0.000000</td>\n",
       "    </tr>\n",
       "    <tr>\n",
       "      <td>50%</td>\n",
       "      <td>40.000000</td>\n",
       "      <td>8.000000</td>\n",
       "    </tr>\n",
       "    <tr>\n",
       "      <td>75%</td>\n",
       "      <td>62.000000</td>\n",
       "      <td>22.000000</td>\n",
       "    </tr>\n",
       "    <tr>\n",
       "      <td>max</td>\n",
       "      <td>895.000000</td>\n",
       "      <td>256.000000</td>\n",
       "    </tr>\n",
       "  </tbody>\n",
       "</table>\n",
       "</div>"
      ],
      "text/plain": [
       "             price  cleaning_fee\n",
       "count  9992.000000  9992.000000 \n",
       "mean   51.089572    13.946357   \n",
       "std    43.049383    17.722777   \n",
       "min    0.000000     0.000000    \n",
       "25%    26.000000    0.000000    \n",
       "50%    40.000000    8.000000    \n",
       "75%    62.000000    22.000000   \n",
       "max    895.000000   256.000000  "
      ]
     },
     "execution_count": 35,
     "metadata": {},
     "output_type": "execute_result"
    }
   ],
   "source": [
    "fields.describe()\n",
    "\n",
    "# check for outliers "
   ]
  },
  {
   "cell_type": "code",
   "execution_count": 36,
   "metadata": {
    "scrolled": true
   },
   "outputs": [
    {
     "data": {
      "text/plain": [
       "44     758\n",
       "35     736\n",
       "26     712\n",
       "31     519\n",
       "22     501\n",
       "      ... \n",
       "235    1  \n",
       "323    1  \n",
       "331    1  \n",
       "92     1  \n",
       "0      1  \n",
       "Name: price, Length: 200, dtype: int64"
      ]
     },
     "execution_count": 36,
     "metadata": {},
     "output_type": "execute_result"
    }
   ],
   "source": [
    "fields['price'].value_counts()"
   ]
  },
  {
   "cell_type": "code",
   "execution_count": 37,
   "metadata": {},
   "outputs": [],
   "source": [
    "# drop row with price 0\n",
    "fields = fields[fields.price != 0]"
   ]
  },
  {
   "cell_type": "code",
   "execution_count": 38,
   "metadata": {
    "scrolled": true
   },
   "outputs": [
    {
     "data": {
      "text/plain": [
       "44     758\n",
       "35     736\n",
       "26     712\n",
       "31     519\n",
       "22     501\n",
       "      ... \n",
       "235    1  \n",
       "323    1  \n",
       "331    1  \n",
       "395    1  \n",
       "895    1  \n",
       "Name: price, Length: 199, dtype: int64"
      ]
     },
     "execution_count": 38,
     "metadata": {},
     "output_type": "execute_result"
    }
   ],
   "source": [
    "fields['price'].value_counts()"
   ]
  },
  {
   "cell_type": "code",
   "execution_count": 39,
   "metadata": {},
   "outputs": [
    {
     "data": {
      "text/html": [
       "<div>\n",
       "<style scoped>\n",
       "    .dataframe tbody tr th:only-of-type {\n",
       "        vertical-align: middle;\n",
       "    }\n",
       "\n",
       "    .dataframe tbody tr th {\n",
       "        vertical-align: top;\n",
       "    }\n",
       "\n",
       "    .dataframe thead th {\n",
       "        text-align: right;\n",
       "    }\n",
       "</style>\n",
       "<table border=\"1\" class=\"dataframe\">\n",
       "  <thead>\n",
       "    <tr style=\"text-align: right;\">\n",
       "      <th></th>\n",
       "      <th>price</th>\n",
       "      <th>cleaning_fee</th>\n",
       "    </tr>\n",
       "  </thead>\n",
       "  <tbody>\n",
       "    <tr>\n",
       "      <td>count</td>\n",
       "      <td>9991.000000</td>\n",
       "      <td>9991.000000</td>\n",
       "    </tr>\n",
       "    <tr>\n",
       "      <td>mean</td>\n",
       "      <td>51.094685</td>\n",
       "      <td>13.947753</td>\n",
       "    </tr>\n",
       "    <tr>\n",
       "      <td>std</td>\n",
       "      <td>43.048503</td>\n",
       "      <td>17.723114</td>\n",
       "    </tr>\n",
       "    <tr>\n",
       "      <td>min</td>\n",
       "      <td>8.000000</td>\n",
       "      <td>0.000000</td>\n",
       "    </tr>\n",
       "    <tr>\n",
       "      <td>25%</td>\n",
       "      <td>26.000000</td>\n",
       "      <td>0.000000</td>\n",
       "    </tr>\n",
       "    <tr>\n",
       "      <td>50%</td>\n",
       "      <td>40.000000</td>\n",
       "      <td>8.000000</td>\n",
       "    </tr>\n",
       "    <tr>\n",
       "      <td>75%</td>\n",
       "      <td>62.000000</td>\n",
       "      <td>22.000000</td>\n",
       "    </tr>\n",
       "    <tr>\n",
       "      <td>max</td>\n",
       "      <td>895.000000</td>\n",
       "      <td>256.000000</td>\n",
       "    </tr>\n",
       "  </tbody>\n",
       "</table>\n",
       "</div>"
      ],
      "text/plain": [
       "             price  cleaning_fee\n",
       "count  9991.000000  9991.000000 \n",
       "mean   51.094685    13.947753   \n",
       "std    43.048503    17.723114   \n",
       "min    8.000000     0.000000    \n",
       "25%    26.000000    0.000000    \n",
       "50%    40.000000    8.000000    \n",
       "75%    62.000000    22.000000   \n",
       "max    895.000000   256.000000  "
      ]
     },
     "execution_count": 39,
     "metadata": {},
     "output_type": "execute_result"
    }
   ],
   "source": [
    "fields.describe()\n",
    "# take those value for comparison to hotel prices"
   ]
  },
  {
   "cell_type": "code",
   "execution_count": 40,
   "metadata": {},
   "outputs": [],
   "source": [
    "# rename columns to match columns in other data sources\n",
    "fields.rename(columns={'id': 'name', 'neighbourhood_group_cleansed': 'area', 'price': 'price'}, inplace=True)"
   ]
  },
  {
   "cell_type": "code",
   "execution_count": 41,
   "metadata": {},
   "outputs": [
    {
     "data": {
      "text/html": [
       "<div>\n",
       "<style scoped>\n",
       "    .dataframe tbody tr th:only-of-type {\n",
       "        vertical-align: middle;\n",
       "    }\n",
       "\n",
       "    .dataframe tbody tr th {\n",
       "        vertical-align: top;\n",
       "    }\n",
       "\n",
       "    .dataframe thead th {\n",
       "        text-align: right;\n",
       "    }\n",
       "</style>\n",
       "<table border=\"1\" class=\"dataframe\">\n",
       "  <thead>\n",
       "    <tr style=\"text-align: right;\">\n",
       "      <th></th>\n",
       "      <th>name</th>\n",
       "      <th>price</th>\n",
       "      <th>area</th>\n",
       "      <th>cleaning_fee</th>\n",
       "    </tr>\n",
       "  </thead>\n",
       "  <tbody>\n",
       "    <tr>\n",
       "      <td>0</td>\n",
       "      <td>10103806</td>\n",
       "      <td>40</td>\n",
       "      <td>Neukölln</td>\n",
       "      <td>0</td>\n",
       "    </tr>\n",
       "    <tr>\n",
       "      <td>1</td>\n",
       "      <td>16187267</td>\n",
       "      <td>40</td>\n",
       "      <td>Neukölln</td>\n",
       "      <td>17</td>\n",
       "    </tr>\n",
       "    <tr>\n",
       "      <td>2</td>\n",
       "      <td>16247375</td>\n",
       "      <td>16</td>\n",
       "      <td>Neukölln</td>\n",
       "      <td>0</td>\n",
       "    </tr>\n",
       "    <tr>\n",
       "      <td>3</td>\n",
       "      <td>412418</td>\n",
       "      <td>44</td>\n",
       "      <td>Neukölln</td>\n",
       "      <td>17</td>\n",
       "    </tr>\n",
       "    <tr>\n",
       "      <td>4</td>\n",
       "      <td>6076066</td>\n",
       "      <td>58</td>\n",
       "      <td>Neukölln</td>\n",
       "      <td>13</td>\n",
       "    </tr>\n",
       "  </tbody>\n",
       "</table>\n",
       "</div>"
      ],
      "text/plain": [
       "       name  price      area  cleaning_fee\n",
       "0  10103806  40     Neukölln  0           \n",
       "1  16187267  40     Neukölln  17          \n",
       "2  16247375  16     Neukölln  0           \n",
       "3  412418    44     Neukölln  17          \n",
       "4  6076066   58     Neukölln  13          "
      ]
     },
     "execution_count": 41,
     "metadata": {},
     "output_type": "execute_result"
    }
   ],
   "source": [
    "fields.head()"
   ]
  },
  {
   "cell_type": "code",
   "execution_count": 42,
   "metadata": {},
   "outputs": [
    {
     "data": {
      "text/html": [
       "<div>\n",
       "<style scoped>\n",
       "    .dataframe tbody tr th:only-of-type {\n",
       "        vertical-align: middle;\n",
       "    }\n",
       "\n",
       "    .dataframe tbody tr th {\n",
       "        vertical-align: top;\n",
       "    }\n",
       "\n",
       "    .dataframe thead th {\n",
       "        text-align: right;\n",
       "    }\n",
       "</style>\n",
       "<table border=\"1\" class=\"dataframe\">\n",
       "  <thead>\n",
       "    <tr style=\"text-align: right;\">\n",
       "      <th></th>\n",
       "      <th>name</th>\n",
       "      <th>price</th>\n",
       "      <th>area</th>\n",
       "      <th>source</th>\n",
       "    </tr>\n",
       "  </thead>\n",
       "  <tbody>\n",
       "    <tr>\n",
       "      <td>0</td>\n",
       "      <td>10103806</td>\n",
       "      <td>40</td>\n",
       "      <td>Neukölln</td>\n",
       "      <td>airbnb</td>\n",
       "    </tr>\n",
       "    <tr>\n",
       "      <td>1</td>\n",
       "      <td>16187267</td>\n",
       "      <td>40</td>\n",
       "      <td>Neukölln</td>\n",
       "      <td>airbnb</td>\n",
       "    </tr>\n",
       "    <tr>\n",
       "      <td>2</td>\n",
       "      <td>16247375</td>\n",
       "      <td>16</td>\n",
       "      <td>Neukölln</td>\n",
       "      <td>airbnb</td>\n",
       "    </tr>\n",
       "    <tr>\n",
       "      <td>3</td>\n",
       "      <td>412418</td>\n",
       "      <td>44</td>\n",
       "      <td>Neukölln</td>\n",
       "      <td>airbnb</td>\n",
       "    </tr>\n",
       "    <tr>\n",
       "      <td>4</td>\n",
       "      <td>6076066</td>\n",
       "      <td>58</td>\n",
       "      <td>Neukölln</td>\n",
       "      <td>airbnb</td>\n",
       "    </tr>\n",
       "  </tbody>\n",
       "</table>\n",
       "</div>"
      ],
      "text/plain": [
       "       name  price      area  source\n",
       "0  10103806  40     Neukölln  airbnb\n",
       "1  16187267  40     Neukölln  airbnb\n",
       "2  16247375  16     Neukölln  airbnb\n",
       "3  412418    44     Neukölln  airbnb\n",
       "4  6076066   58     Neukölln  airbnb"
      ]
     },
     "execution_count": 42,
     "metadata": {},
     "output_type": "execute_result"
    }
   ],
   "source": [
    "# drop column cleaning fee to have same format as other sources\n",
    "fields = fields.drop(['cleaning_fee'], axis =1)\n",
    "\n",
    "# add column to indicate where these data come from as this is needed \n",
    "# to run analysis in merged file later and\n",
    "# fill column source with value \"Airbnb\"\n",
    "fields['source'] = \"airbnb\" \n",
    "\n",
    "## \n",
    "\n",
    "fields.head()"
   ]
  },
  {
   "cell_type": "markdown",
   "metadata": {},
   "source": [
    "### Reset Index"
   ]
  },
  {
   "cell_type": "code",
   "execution_count": 43,
   "metadata": {},
   "outputs": [
    {
     "data": {
      "text/html": [
       "<div>\n",
       "<style scoped>\n",
       "    .dataframe tbody tr th:only-of-type {\n",
       "        vertical-align: middle;\n",
       "    }\n",
       "\n",
       "    .dataframe tbody tr th {\n",
       "        vertical-align: top;\n",
       "    }\n",
       "\n",
       "    .dataframe thead th {\n",
       "        text-align: right;\n",
       "    }\n",
       "</style>\n",
       "<table border=\"1\" class=\"dataframe\">\n",
       "  <thead>\n",
       "    <tr style=\"text-align: right;\">\n",
       "      <th></th>\n",
       "      <th>name</th>\n",
       "      <th>price</th>\n",
       "      <th>area</th>\n",
       "      <th>source</th>\n",
       "    </tr>\n",
       "  </thead>\n",
       "  <tbody>\n",
       "    <tr>\n",
       "      <td>0</td>\n",
       "      <td>10103806</td>\n",
       "      <td>40</td>\n",
       "      <td>Neukölln</td>\n",
       "      <td>airbnb</td>\n",
       "    </tr>\n",
       "    <tr>\n",
       "      <td>1</td>\n",
       "      <td>16187267</td>\n",
       "      <td>40</td>\n",
       "      <td>Neukölln</td>\n",
       "      <td>airbnb</td>\n",
       "    </tr>\n",
       "    <tr>\n",
       "      <td>2</td>\n",
       "      <td>16247375</td>\n",
       "      <td>16</td>\n",
       "      <td>Neukölln</td>\n",
       "      <td>airbnb</td>\n",
       "    </tr>\n",
       "    <tr>\n",
       "      <td>3</td>\n",
       "      <td>412418</td>\n",
       "      <td>44</td>\n",
       "      <td>Neukölln</td>\n",
       "      <td>airbnb</td>\n",
       "    </tr>\n",
       "    <tr>\n",
       "      <td>4</td>\n",
       "      <td>6076066</td>\n",
       "      <td>58</td>\n",
       "      <td>Neukölln</td>\n",
       "      <td>airbnb</td>\n",
       "    </tr>\n",
       "  </tbody>\n",
       "</table>\n",
       "</div>"
      ],
      "text/plain": [
       "       name  price      area  source\n",
       "0  10103806  40     Neukölln  airbnb\n",
       "1  16187267  40     Neukölln  airbnb\n",
       "2  16247375  16     Neukölln  airbnb\n",
       "3  412418    44     Neukölln  airbnb\n",
       "4  6076066   58     Neukölln  airbnb"
      ]
     },
     "execution_count": 43,
     "metadata": {},
     "output_type": "execute_result"
    }
   ],
   "source": [
    "fields = fields.reset_index(drop=True)\n",
    "fields.head()"
   ]
  },
  {
   "cell_type": "markdown",
   "metadata": {},
   "source": [
    "## Export *.pkl"
   ]
  },
  {
   "cell_type": "code",
   "execution_count": 44,
   "metadata": {},
   "outputs": [],
   "source": [
    "fields.to_pickle('2017_airbnb_api_data_clean.pkl')"
   ]
  },
  {
   "cell_type": "markdown",
   "metadata": {},
   "source": [
    "## Export *.csv"
   ]
  },
  {
   "cell_type": "code",
   "execution_count": 45,
   "metadata": {},
   "outputs": [],
   "source": [
    "fields.to_csv('2017_airbnb_api_data_clean.csv', sep=',', index=False)"
   ]
  }
 ],
 "metadata": {
  "kernelspec": {
   "display_name": "Python 3",
   "language": "python",
   "name": "python3"
  },
  "language_info": {
   "codemirror_mode": {
    "name": "ipython",
    "version": 3
   },
   "file_extension": ".py",
   "mimetype": "text/x-python",
   "name": "python",
   "nbconvert_exporter": "python",
   "pygments_lexer": "ipython3",
   "version": "3.7.4"
  }
 },
 "nbformat": 4,
 "nbformat_minor": 2
}
