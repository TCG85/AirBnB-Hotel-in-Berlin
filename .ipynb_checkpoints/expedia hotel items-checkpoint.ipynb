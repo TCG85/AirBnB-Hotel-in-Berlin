{
 "cells": [
  {
   "cell_type": "code",
   "execution_count": 1,
   "metadata": {},
   "outputs": [],
   "source": [
    "from selenium import webdriver\n",
    "from selenium.webdriver.common.keys import Keys\n",
    "import re\n",
    "import pandas as pd\n",
    "import os\n",
    "import requests\n",
    "import csv"
   ]
  },
  {
   "cell_type": "code",
   "execution_count": 2,
   "metadata": {},
   "outputs": [],
   "source": [
    "url =\"https://www.expedia.de/Hotel-Search?adults=2&destination=Berlin&endDate=2020-02-06&rooms=1&&startDate=2020-02-05\""
   ]
  },
  {
   "cell_type": "code",
   "execution_count": 3,
   "metadata": {},
   "outputs": [],
   "source": [
    "driver = webdriver.Chrome()"
   ]
  },
  {
   "cell_type": "code",
   "execution_count": 4,
   "metadata": {},
   "outputs": [],
   "source": [
    "with open('results.csv', 'w', encoding='utf-8') as f:\n",
    "    f.write(\"hotel_name, hotel_hood, price \\n\")\n",
    "    \n",
    "for i in range(0,16):\n",
    "    url = \"https://www.expedia.de/Hotel-Search?adults=2&destination=Berlin&endDate=2020-02-06&rooms=1&&startDate=2020-02-05&startingIndex=\" + str(i*(50))\n",
    "    \n",
    "    driver.get(url)\n",
    "    \n",
    "# &startingIndex=800 \n",
    "    hotel_name = driver.find_elements_by_xpath('//h3[@aria-hidden=\"true\"]')\n",
    "    hood_name = driver.find_elements_by_xpath('//div[@data-stid=\"content-hotel-neighborhood\"]')\n",
    "    price = driver.find_elements_by_xpath('//span[@data-stid=\"content-hotel-display-price\"]')\n",
    "    \n",
    "    num_page_items = len(price)\n",
    "    with open('results.csv', 'a', encoding='utf-8') as f:\n",
    "        for i in range(num_page_items):\n",
    "            f.write(hotel_name[i].text + \",\" + hood_name[i].text + \",\" + price[i].text + \"\\n\")\n",
    "        "
   ]
  },
  {
   "cell_type": "code",
   "execution_count": 5,
   "metadata": {},
   "outputs": [],
   "source": [
    "driver.close()"
   ]
  }
 ],
 "metadata": {
  "kernelspec": {
   "display_name": "Python 3",
   "language": "python",
   "name": "python3"
  },
  "language_info": {
   "codemirror_mode": {
    "name": "ipython",
    "version": 3
   },
   "file_extension": ".py",
   "mimetype": "text/x-python",
   "name": "python",
   "nbconvert_exporter": "python",
   "pygments_lexer": "ipython3",
   "version": "3.7.5"
  }
 },
 "nbformat": 4,
 "nbformat_minor": 2
}
