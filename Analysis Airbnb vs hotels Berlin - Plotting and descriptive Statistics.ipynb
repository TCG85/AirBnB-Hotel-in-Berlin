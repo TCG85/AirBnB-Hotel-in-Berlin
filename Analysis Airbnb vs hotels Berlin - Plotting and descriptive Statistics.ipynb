{
 "cells": [
  {
   "cell_type": "markdown",
   "metadata": {},
   "source": [
    "###### Import packages and csv tables"
   ]
  },
  {
   "cell_type": "code",
   "execution_count": 1,
   "metadata": {},
   "outputs": [],
   "source": [
    "import pandas as pd\n",
    "import numpy as np\n",
    "import plotly.graph_objs as go\n",
    "import matplotlib.pyplot as plt\n",
    "\n",
    "%matplotlib inline"
   ]
  },
  {
   "cell_type": "code",
   "execution_count": 2,
   "metadata": {},
   "outputs": [],
   "source": [
    "df = pd.read_csv('expedia_data_clean.csv', index_col=0)\n",
    "df_bp = pd.read_pickle(\"Booking_price_comparison.pkl\")\n",
    "df_air = pd.read_pickle(\"2017_airbnb_api_data_clean.pkl\")"
   ]
  },
  {
   "cell_type": "code",
   "execution_count": 3,
   "metadata": {},
   "outputs": [
    {
     "data": {
      "text/html": [
       "<div>\n",
       "<style scoped>\n",
       "    .dataframe tbody tr th:only-of-type {\n",
       "        vertical-align: middle;\n",
       "    }\n",
       "\n",
       "    .dataframe tbody tr th {\n",
       "        vertical-align: top;\n",
       "    }\n",
       "\n",
       "    .dataframe thead th {\n",
       "        text-align: right;\n",
       "    }\n",
       "</style>\n",
       "<table border=\"1\" class=\"dataframe\">\n",
       "  <thead>\n",
       "    <tr style=\"text-align: right;\">\n",
       "      <th></th>\n",
       "      <th>name</th>\n",
       "      <th>area</th>\n",
       "      <th>price</th>\n",
       "    </tr>\n",
       "  </thead>\n",
       "  <tbody>\n",
       "    <tr>\n",
       "      <th>0</th>\n",
       "      <td>2A Hostel</td>\n",
       "      <td>Neukölln</td>\n",
       "      <td>58.0</td>\n",
       "    </tr>\n",
       "    <tr>\n",
       "      <th>1</th>\n",
       "      <td>364.berlin</td>\n",
       "      <td>Berlin</td>\n",
       "      <td>84.0</td>\n",
       "    </tr>\n",
       "  </tbody>\n",
       "</table>\n",
       "</div>"
      ],
      "text/plain": [
       "         name      area  price\n",
       "0   2A Hostel  Neukölln   58.0\n",
       "1  364.berlin    Berlin   84.0"
      ]
     },
     "execution_count": 3,
     "metadata": {},
     "output_type": "execute_result"
    }
   ],
   "source": [
    "#Transformatin of df. area\n",
    "df = df.replace(\"Hessenwinkel\", \"Treptow-Köpenick\")\n",
    "#rename columns\n",
    "df.columns=[\"name\", \"area\", \"price\"]\n",
    "df_bp.columns = [\"name\", \"price\", \"street\", \"area\", \"zip\"]\n",
    "df.head(2)"
   ]
  },
  {
   "cell_type": "code",
   "execution_count": 4,
   "metadata": {},
   "outputs": [
    {
     "data": {
      "text/html": [
       "<div>\n",
       "<style scoped>\n",
       "    .dataframe tbody tr th:only-of-type {\n",
       "        vertical-align: middle;\n",
       "    }\n",
       "\n",
       "    .dataframe tbody tr th {\n",
       "        vertical-align: top;\n",
       "    }\n",
       "\n",
       "    .dataframe thead th {\n",
       "        text-align: right;\n",
       "    }\n",
       "</style>\n",
       "<table border=\"1\" class=\"dataframe\">\n",
       "  <thead>\n",
       "    <tr style=\"text-align: right;\">\n",
       "      <th></th>\n",
       "      <th>name</th>\n",
       "      <th>price</th>\n",
       "      <th>street</th>\n",
       "      <th>area</th>\n",
       "      <th>zip</th>\n",
       "    </tr>\n",
       "  </thead>\n",
       "  <tbody>\n",
       "    <tr>\n",
       "      <th>0</th>\n",
       "      <td>City Hotel am Gendarmenmarkt</td>\n",
       "      <td>107</td>\n",
       "      <td>Leipziger Str. 65</td>\n",
       "      <td>Mitte</td>\n",
       "      <td>10117 Berlin, Germany</td>\n",
       "    </tr>\n",
       "    <tr>\n",
       "      <th>4</th>\n",
       "      <td>mk hotel berlin</td>\n",
       "      <td>91</td>\n",
       "      <td>Osloer Straße 100</td>\n",
       "      <td>Mitte</td>\n",
       "      <td>13359 Berlin, Germany</td>\n",
       "    </tr>\n",
       "  </tbody>\n",
       "</table>\n",
       "</div>"
      ],
      "text/plain": [
       "                           name price             street    area  \\\n",
       "0  City Hotel am Gendarmenmarkt   107  Leipziger Str. 65   Mitte   \n",
       "4               mk hotel berlin    91  Osloer Straße 100   Mitte   \n",
       "\n",
       "                      zip  \n",
       "0   10117 Berlin, Germany  \n",
       "4   13359 Berlin, Germany  "
      ]
     },
     "execution_count": 4,
     "metadata": {},
     "output_type": "execute_result"
    }
   ],
   "source": [
    "df_bp.head(2)"
   ]
  },
  {
   "cell_type": "code",
   "execution_count": 5,
   "metadata": {},
   "outputs": [
    {
     "data": {
      "text/html": [
       "<div>\n",
       "<style scoped>\n",
       "    .dataframe tbody tr th:only-of-type {\n",
       "        vertical-align: middle;\n",
       "    }\n",
       "\n",
       "    .dataframe tbody tr th {\n",
       "        vertical-align: top;\n",
       "    }\n",
       "\n",
       "    .dataframe thead th {\n",
       "        text-align: right;\n",
       "    }\n",
       "</style>\n",
       "<table border=\"1\" class=\"dataframe\">\n",
       "  <thead>\n",
       "    <tr style=\"text-align: right;\">\n",
       "      <th></th>\n",
       "      <th>name</th>\n",
       "      <th>price</th>\n",
       "      <th>area</th>\n",
       "      <th>source</th>\n",
       "    </tr>\n",
       "  </thead>\n",
       "  <tbody>\n",
       "    <tr>\n",
       "      <th>0</th>\n",
       "      <td>10103806</td>\n",
       "      <td>40</td>\n",
       "      <td>Neukölln</td>\n",
       "      <td>airbnb</td>\n",
       "    </tr>\n",
       "    <tr>\n",
       "      <th>1</th>\n",
       "      <td>16187267</td>\n",
       "      <td>40</td>\n",
       "      <td>Neukölln</td>\n",
       "      <td>airbnb</td>\n",
       "    </tr>\n",
       "  </tbody>\n",
       "</table>\n",
       "</div>"
      ],
      "text/plain": [
       "       name  price      area  source\n",
       "0  10103806     40  Neukölln  airbnb\n",
       "1  16187267     40  Neukölln  airbnb"
      ]
     },
     "execution_count": 5,
     "metadata": {},
     "output_type": "execute_result"
    }
   ],
   "source": [
    "df_air.head(2)"
   ]
  },
  {
   "cell_type": "code",
   "execution_count": 6,
   "metadata": {},
   "outputs": [],
   "source": [
    "# to measure the density of hotels per area, we only need the hotel and the area columns\n",
    "df_bp = df_bp.drop([ \"street\", \"zip\"], axis=1)"
   ]
  },
  {
   "cell_type": "markdown",
   "metadata": {},
   "source": [
    "##### Merge all the tables "
   ]
  },
  {
   "cell_type": "code",
   "execution_count": 7,
   "metadata": {},
   "outputs": [],
   "source": [
    "merged = df.append(df_bp, ignore_index=True, sort=True)"
   ]
  },
  {
   "cell_type": "code",
   "execution_count": 8,
   "metadata": {},
   "outputs": [
    {
     "data": {
      "text/html": [
       "<div>\n",
       "<style scoped>\n",
       "    .dataframe tbody tr th:only-of-type {\n",
       "        vertical-align: middle;\n",
       "    }\n",
       "\n",
       "    .dataframe tbody tr th {\n",
       "        vertical-align: top;\n",
       "    }\n",
       "\n",
       "    .dataframe thead th {\n",
       "        text-align: right;\n",
       "    }\n",
       "</style>\n",
       "<table border=\"1\" class=\"dataframe\">\n",
       "  <thead>\n",
       "    <tr style=\"text-align: right;\">\n",
       "      <th></th>\n",
       "      <th>area</th>\n",
       "      <th>name</th>\n",
       "      <th>price</th>\n",
       "      <th>source</th>\n",
       "    </tr>\n",
       "  </thead>\n",
       "  <tbody>\n",
       "    <tr>\n",
       "      <th>0</th>\n",
       "      <td>Neukölln</td>\n",
       "      <td>2A Hostel</td>\n",
       "      <td>58</td>\n",
       "      <td>hotel</td>\n",
       "    </tr>\n",
       "    <tr>\n",
       "      <th>1</th>\n",
       "      <td>Berlin</td>\n",
       "      <td>364.berlin</td>\n",
       "      <td>84</td>\n",
       "      <td>hotel</td>\n",
       "    </tr>\n",
       "  </tbody>\n",
       "</table>\n",
       "</div>"
      ],
      "text/plain": [
       "       area        name price source\n",
       "0  Neukölln   2A Hostel    58  hotel\n",
       "1    Berlin  364.berlin    84  hotel"
      ]
     },
     "execution_count": 8,
     "metadata": {},
     "output_type": "execute_result"
    }
   ],
   "source": [
    "#Create Column that indicates source\n",
    "merged[\"source\"] = \"hotel\"\n",
    "merged.head(2)"
   ]
  },
  {
   "cell_type": "code",
   "execution_count": 9,
   "metadata": {},
   "outputs": [
    {
     "data": {
      "text/html": [
       "<div>\n",
       "<style scoped>\n",
       "    .dataframe tbody tr th:only-of-type {\n",
       "        vertical-align: middle;\n",
       "    }\n",
       "\n",
       "    .dataframe tbody tr th {\n",
       "        vertical-align: top;\n",
       "    }\n",
       "\n",
       "    .dataframe thead th {\n",
       "        text-align: right;\n",
       "    }\n",
       "</style>\n",
       "<table border=\"1\" class=\"dataframe\">\n",
       "  <thead>\n",
       "    <tr style=\"text-align: right;\">\n",
       "      <th></th>\n",
       "      <th>area</th>\n",
       "      <th>name</th>\n",
       "      <th>price</th>\n",
       "      <th>source</th>\n",
       "    </tr>\n",
       "  </thead>\n",
       "  <tbody>\n",
       "    <tr>\n",
       "      <th>0</th>\n",
       "      <td>Neukölln</td>\n",
       "      <td>2A Hostel</td>\n",
       "      <td>58</td>\n",
       "      <td>hotel</td>\n",
       "    </tr>\n",
       "    <tr>\n",
       "      <th>1</th>\n",
       "      <td>Berlin</td>\n",
       "      <td>364.berlin</td>\n",
       "      <td>84</td>\n",
       "      <td>hotel</td>\n",
       "    </tr>\n",
       "  </tbody>\n",
       "</table>\n",
       "</div>"
      ],
      "text/plain": [
       "       area        name price source\n",
       "0  Neukölln   2A Hostel    58  hotel\n",
       "1    Berlin  364.berlin    84  hotel"
      ]
     },
     "execution_count": 9,
     "metadata": {},
     "output_type": "execute_result"
    }
   ],
   "source": [
    "merged.head(2)"
   ]
  },
  {
   "cell_type": "code",
   "execution_count": 10,
   "metadata": {},
   "outputs": [],
   "source": [
    "merged_all = merged.append(df_air, ignore_index=True, sort = True)"
   ]
  },
  {
   "cell_type": "code",
   "execution_count": 11,
   "metadata": {},
   "outputs": [
    {
     "data": {
      "text/html": [
       "<div>\n",
       "<style scoped>\n",
       "    .dataframe tbody tr th:only-of-type {\n",
       "        vertical-align: middle;\n",
       "    }\n",
       "\n",
       "    .dataframe tbody tr th {\n",
       "        vertical-align: top;\n",
       "    }\n",
       "\n",
       "    .dataframe thead th {\n",
       "        text-align: right;\n",
       "    }\n",
       "</style>\n",
       "<table border=\"1\" class=\"dataframe\">\n",
       "  <thead>\n",
       "    <tr style=\"text-align: right;\">\n",
       "      <th></th>\n",
       "      <th>area</th>\n",
       "      <th>name</th>\n",
       "      <th>price</th>\n",
       "      <th>source</th>\n",
       "    </tr>\n",
       "  </thead>\n",
       "  <tbody>\n",
       "    <tr>\n",
       "      <th>0</th>\n",
       "      <td>Neukölln</td>\n",
       "      <td>2A Hostel</td>\n",
       "      <td>58</td>\n",
       "      <td>hotel</td>\n",
       "    </tr>\n",
       "    <tr>\n",
       "      <th>1</th>\n",
       "      <td>Berlin</td>\n",
       "      <td>364.berlin</td>\n",
       "      <td>84</td>\n",
       "      <td>hotel</td>\n",
       "    </tr>\n",
       "  </tbody>\n",
       "</table>\n",
       "</div>"
      ],
      "text/plain": [
       "       area        name price source\n",
       "0  Neukölln   2A Hostel    58  hotel\n",
       "1    Berlin  364.berlin    84  hotel"
      ]
     },
     "execution_count": 11,
     "metadata": {},
     "output_type": "execute_result"
    }
   ],
   "source": [
    "merged_all.head(2)"
   ]
  },
  {
   "cell_type": "markdown",
   "metadata": {},
   "source": [
    "##### Transformations"
   ]
  },
  {
   "cell_type": "code",
   "execution_count": 12,
   "metadata": {},
   "outputs": [
    {
     "data": {
      "text/plain": [
       "array(['Neukölln', 'Berlin', 'Pankow', 'Mitte',\n",
       "       'Charlottenburg-Wilmersdorf', 'Lichtenberg', 'Spandau',\n",
       "       'Schmöckwitzwerder', 'Treptow-Köpenick', 'Dahlwitz-Hoppegarten',\n",
       "       'Neueiche', ' Berlin', ' Mitte', ' Charlottenburg-Wilmersdorf',\n",
       "       ' Friedrichshain-Kreuzberg', ' Tempelhof-Schöneberg',\n",
       "       ' Reinickendorf', ' Lichtenberg', ' Prenzlauer Berg', ' Neukölln',\n",
       "       ' Treptow-Köpenick', ' Steglitz-Zehlendorf', ' 80-82', ' Spandau',\n",
       "       ' Pankow', ' Marzahn-Hellersdorf', ' 10787 Berlin',\n",
       "       'Friedrichshain-Kreuzberg', 'Charlottenburg-Wilm.',\n",
       "       'Marzahn - Hellersdorf', 'Reinickendorf', 'Steglitz - Zehlendorf',\n",
       "       'Tempelhof - Schöneberg', 'Treptow - Köpenick'], dtype=object)"
      ]
     },
     "execution_count": 12,
     "metadata": {},
     "output_type": "execute_result"
    }
   ],
   "source": [
    "merged_all.area.unique()"
   ]
  },
  {
   "cell_type": "code",
   "execution_count": 13,
   "metadata": {},
   "outputs": [],
   "source": [
    "# get rid of the € signs in price\n",
    "#merged_data_full.price.replace(regex=True,inplace=True,to_replace=r'\\D',value=r'')"
   ]
  },
  {
   "cell_type": "code",
   "execution_count": 14,
   "metadata": {},
   "outputs": [
    {
     "data": {
      "text/plain": [
       "Holiday Inn Berlin City Center East Prenzlauer Berg    4\n",
       "SO/ Berlin Das Stue                                    4\n",
       "Good Morning + Berlin City East                        4\n",
       "MEININGER Hotel Berlin East Side Gallery               4\n",
       "Erlanger Hof                                           4\n",
       "                                                      ..\n",
       "4232799                                                1\n",
       "13978500                                               1\n",
       "9226389                                                1\n",
       "16519301                                               1\n",
       "5865532                                                1\n",
       "Name: name, Length: 10411, dtype: int64"
      ]
     },
     "execution_count": 14,
     "metadata": {},
     "output_type": "execute_result"
    }
   ],
   "source": [
    "#we have 24 duplicates\n",
    "merged_all[\"name\"].value_counts()"
   ]
  },
  {
   "cell_type": "code",
   "execution_count": 15,
   "metadata": {},
   "outputs": [],
   "source": [
    "#drop duplicates\n",
    "merged_all[\"name\"] = merged_all[\"name\"].drop_duplicates()"
   ]
  },
  {
   "cell_type": "code",
   "execution_count": 16,
   "metadata": {},
   "outputs": [
    {
     "data": {
      "text/plain": [
       "1694698     1\n",
       "15979394    1\n",
       "7232901     1\n",
       "18006842    1\n",
       "15830485    1\n",
       "           ..\n",
       "15835727    1\n",
       "18350730    1\n",
       "9257996     1\n",
       "17492209    1\n",
       "5865532     1\n",
       "Name: name, Length: 10411, dtype: int64"
      ]
     },
     "execution_count": 16,
     "metadata": {},
     "output_type": "execute_result"
    }
   ],
   "source": [
    "merged_all[\"name\"].value_counts()"
   ]
  },
  {
   "cell_type": "markdown",
   "metadata": {},
   "source": [
    "##### Inspect Data Types"
   ]
  },
  {
   "cell_type": "code",
   "execution_count": 17,
   "metadata": {},
   "outputs": [
    {
     "data": {
      "text/plain": [
       "area      object\n",
       "name      object\n",
       "price     object\n",
       "source    object\n",
       "dtype: object"
      ]
     },
     "execution_count": 17,
     "metadata": {},
     "output_type": "execute_result"
    }
   ],
   "source": [
    "merged_all.dtypes"
   ]
  },
  {
   "cell_type": "code",
   "execution_count": 18,
   "metadata": {},
   "outputs": [
    {
     "data": {
      "text/plain": [
       "array(['Neukölln', 'Berlin', 'Pankow', 'Mitte',\n",
       "       'Charlottenburg-Wilmersdorf', 'Lichtenberg', 'Spandau',\n",
       "       'Schmöckwitzwerder', 'Treptow-Köpenick', 'Dahlwitz-Hoppegarten',\n",
       "       'Neueiche', ' Berlin', ' Mitte', ' Charlottenburg-Wilmersdorf',\n",
       "       ' Friedrichshain-Kreuzberg', ' Tempelhof-Schöneberg',\n",
       "       ' Reinickendorf', ' Lichtenberg', ' Prenzlauer Berg', ' Neukölln',\n",
       "       ' Treptow-Köpenick', ' Steglitz-Zehlendorf', ' 80-82', ' Spandau',\n",
       "       ' Pankow', ' Marzahn-Hellersdorf', ' 10787 Berlin',\n",
       "       'Friedrichshain-Kreuzberg', 'Charlottenburg-Wilm.',\n",
       "       'Marzahn - Hellersdorf', 'Reinickendorf', 'Steglitz - Zehlendorf',\n",
       "       'Tempelhof - Schöneberg', 'Treptow - Köpenick'], dtype=object)"
      ]
     },
     "execution_count": 18,
     "metadata": {},
     "output_type": "execute_result"
    }
   ],
   "source": [
    "merged_all.area.unique()"
   ]
  },
  {
   "cell_type": "code",
   "execution_count": 19,
   "metadata": {},
   "outputs": [],
   "source": [
    "#remove spacing in the fromt of area name\n",
    "merged_all.area = merged_all.area.str.lstrip()"
   ]
  },
  {
   "cell_type": "code",
   "execution_count": 20,
   "metadata": {},
   "outputs": [],
   "source": [
    "#remove weird area data and rename area Berlin to unknown\n",
    "merged_all.area = merged_all.area.replace(\"Berlin\", \"unknown\")\n",
    "merged_all.area = merged_all.area.replace(\"80-82\", \"unknown\")\n",
    "merged_all.area = merged_all.area.replace(\"10787 Berlin\", \"Tempelhof-Schöneberg\")\n",
    "merged_all.area = merged_all.area.replace(\"Charlottenburg-Wilm.\", \"Charlottenburg-Wilmersdorf\")\n",
    "merged_all.area = merged_all.area.replace(\"Marzahn - Hellersdorf\", \"Marzahn-Hellersdorf\")\n",
    "merged_all.area = merged_all.area.replace(\"Steglitz - Zehlendorf\", \"Steglitz-Zehlendorf\")\n",
    "merged_all.area = merged_all.area.replace(\"Tempelhof - Schöneberg\", \"Tempelhof-Schöneberg\")\n",
    "merged_all.area = merged_all.area.replace(\"Treptow - Köpenick\", \"Treptow-Köpenick\")\n",
    "merged_all.area = merged_all.area.replace(\"Prenzlauer Berg\", \"Pankow\")"
   ]
  },
  {
   "cell_type": "code",
   "execution_count": 21,
   "metadata": {},
   "outputs": [
    {
     "data": {
      "text/plain": [
       "array(['Neukölln', 'unknown', 'Pankow', 'Mitte',\n",
       "       'Charlottenburg-Wilmersdorf', 'Lichtenberg', 'Spandau',\n",
       "       'Schmöckwitzwerder', 'Treptow-Köpenick', 'Dahlwitz-Hoppegarten',\n",
       "       'Neueiche', 'Friedrichshain-Kreuzberg', 'Tempelhof-Schöneberg',\n",
       "       'Reinickendorf', 'Steglitz-Zehlendorf', 'Marzahn-Hellersdorf'],\n",
       "      dtype=object)"
      ]
     },
     "execution_count": 21,
     "metadata": {},
     "output_type": "execute_result"
    }
   ],
   "source": [
    "merged_all.area.unique()"
   ]
  },
  {
   "cell_type": "code",
   "execution_count": 22,
   "metadata": {},
   "outputs": [],
   "source": [
    "# save price as int\n",
    "merged_all[\"price\"] = merged_all[\"price\"].astype(\"float\")"
   ]
  },
  {
   "cell_type": "code",
   "execution_count": 23,
   "metadata": {},
   "outputs": [
    {
     "data": {
      "text/plain": [
       "area       object\n",
       "name       object\n",
       "price     float64\n",
       "source     object\n",
       "dtype: object"
      ]
     },
     "execution_count": 23,
     "metadata": {},
     "output_type": "execute_result"
    }
   ],
   "source": [
    "merged_all.dtypes"
   ]
  },
  {
   "cell_type": "code",
   "execution_count": 24,
   "metadata": {},
   "outputs": [
    {
     "data": {
      "text/html": [
       "<div>\n",
       "<style scoped>\n",
       "    .dataframe tbody tr th:only-of-type {\n",
       "        vertical-align: middle;\n",
       "    }\n",
       "\n",
       "    .dataframe tbody tr th {\n",
       "        vertical-align: top;\n",
       "    }\n",
       "\n",
       "    .dataframe thead th {\n",
       "        text-align: right;\n",
       "    }\n",
       "</style>\n",
       "<table border=\"1\" class=\"dataframe\">\n",
       "  <thead>\n",
       "    <tr style=\"text-align: right;\">\n",
       "      <th></th>\n",
       "      <th>area</th>\n",
       "      <th>name</th>\n",
       "      <th>price</th>\n",
       "      <th>source</th>\n",
       "    </tr>\n",
       "  </thead>\n",
       "  <tbody>\n",
       "    <tr>\n",
       "      <th>0</th>\n",
       "      <td>Neukölln</td>\n",
       "      <td>2A Hostel</td>\n",
       "      <td>58.0</td>\n",
       "      <td>hotel</td>\n",
       "    </tr>\n",
       "    <tr>\n",
       "      <th>1</th>\n",
       "      <td>unknown</td>\n",
       "      <td>364.berlin</td>\n",
       "      <td>84.0</td>\n",
       "      <td>hotel</td>\n",
       "    </tr>\n",
       "  </tbody>\n",
       "</table>\n",
       "</div>"
      ],
      "text/plain": [
       "       area        name  price source\n",
       "0  Neukölln   2A Hostel   58.0  hotel\n",
       "1   unknown  364.berlin   84.0  hotel"
      ]
     },
     "execution_count": 24,
     "metadata": {},
     "output_type": "execute_result"
    }
   ],
   "source": [
    "merged_all.head(2)"
   ]
  },
  {
   "cell_type": "markdown",
   "metadata": {},
   "source": [
    "##### Descriptive Statistics"
   ]
  },
  {
   "cell_type": "code",
   "execution_count": 25,
   "metadata": {},
   "outputs": [
    {
     "data": {
      "image/png": "[encoded data removed]",
      "text/plain": [
       "<Figure size 720x432 with 1 Axes>"
      ]
     },
     "metadata": {
      "needs_background": "light"
     },
     "output_type": "display_data"
    }
   ],
   "source": [
    "# Price comparison between hotels and air bnb\n",
    "price_chart = merged_all.groupby([\"area\", \"source\"]).median().unstack().plot(figsize=(10,6),kind=\"bar\");\n",
    "price_chart;\n",
    "plt.legend();\n",
    "plt.xlabel(\"Area\", size = 15);\n",
    "plt.ylabel(\" Median Price in €\", size = 15);\n",
    "plt.title(\"Hotel and AirBnB Prices/Night per Area in Berlin\", size = 20);\n",
    "plt.xticks(rotation=90);"
   ]
  },
  {
   "cell_type": "code",
   "execution_count": 26,
   "metadata": {},
   "outputs": [
    {
     "data": {
      "image/png": "[encoded data removed]",
      "text/plain": [
       "<Figure size 720x432 with 1 Axes>"
      ]
     },
     "metadata": {
      "needs_background": "light"
     },
     "output_type": "display_data"
    }
   ],
   "source": [
    "# here we can clearly see the difference in price\n",
    "merged_all.groupby([\"area\", \"source\"]).median().unstack().plot.bar(figsize=(10,6),stacked=True)\n",
    "plt.legend();\n",
    "plt.xlabel(\"Area\", size = 15);\n",
    "plt.ylabel(\"Median Price in €\", size = 15);\n",
    "plt.title(\"Hotel and AirBnB Prices/Night per Area in Berlin\", size = 20);\n",
    "plt.xticks(rotation=90);"
   ]
  },
  {
   "cell_type": "code",
   "execution_count": 27,
   "metadata": {},
   "outputs": [
    {
     "data": {
      "image/png": "[encoded data removed]",
      "text/plain": [
       "<Figure size 720x1152 with 1 Axes>"
      ]
     },
     "metadata": {
      "needs_background": "light"
     },
     "output_type": "display_data"
    }
   ],
   "source": [
    "# density comparison between hotels and air bnb\n",
    "density_chart = merged_all.sort_values([\"area\", \"source\"]).reset_index(drop=True).groupby([\"area\", \"source\"]).size().unstack().plot(figsize=(10,16),kind=\"bar\");\n",
    "density_chart;\n",
    "plt.legend();\n",
    "plt.xlabel(\"Area\", size = 15);\n",
    "plt.ylabel(\"Number of Listings\", size = 15);\n",
    "plt.title(\"Hotel and AirBnB Listings per Area in Berlin\", size = 20);\n",
    "plt.xticks(rotation=90);"
   ]
  }
 ],
 "metadata": {
  "kernelspec": {
   "display_name": "Python 3",
   "language": "python",
   "name": "python3"
  },
  "language_info": {
   "codemirror_mode": {
    "name": "ipython",
    "version": 3
   },
   "file_extension": ".py",
   "mimetype": "text/x-python",
   "name": "python",
   "nbconvert_exporter": "python",
   "pygments_lexer": "ipython3",
   "version": "3.7.6"
  }
 },
 "nbformat": 4,
 "nbformat_minor": 2
}
