{
 "cells": [
  {
   "cell_type": "markdown",
   "metadata": {},
   "source": [
    "###### Import packages and csv tables"
   ]
  },
  {
   "cell_type": "code",
   "execution_count": 1,
   "metadata": {},
   "outputs": [],
   "source": [
    "import pandas as pd\n",
    "import altair as alt\n",
    "from altair import *\n",
    "import numpy as np\n",
    "import plotly.express as px\n",
    "import plotly.graph_objs as go\n",
    "import matplotlib\n",
    "import matplotlib.pyplot as plt\n",
    "import seaborn as sns\n",
    "from vega_datasets import data\n",
    "\n",
    "sns.set_style(\"white\")\n",
    "%matplotlib inline"
   ]
  },
  {
   "cell_type": "code",
   "execution_count": 2,
   "metadata": {},
   "outputs": [],
   "source": [
    "df = pd.read_csv('subfolder/data_clean.csv', index_col=0)\n",
    "df_bp = pd.read_pickle(\"subfolder/Booking_price_comparison.pkl\")\n",
    "df_air = pd.read_pickle(\"subfolder/2017_airbnb_api_data_clean.pkl\")"
   ]
  },
  {
   "cell_type": "code",
   "execution_count": 3,
   "metadata": {},
   "outputs": [
    {
     "data": {
      "text/html": [
       "<div>\n",
       "<style scoped>\n",
       "    .dataframe tbody tr th:only-of-type {\n",
       "        vertical-align: middle;\n",
       "    }\n",
       "\n",
       "    .dataframe tbody tr th {\n",
       "        vertical-align: top;\n",
       "    }\n",
       "\n",
       "    .dataframe thead th {\n",
       "        text-align: right;\n",
       "    }\n",
       "</style>\n",
       "<table border=\"1\" class=\"dataframe\">\n",
       "  <thead>\n",
       "    <tr style=\"text-align: right;\">\n",
       "      <th></th>\n",
       "      <th>name</th>\n",
       "      <th>area</th>\n",
       "      <th>price</th>\n",
       "    </tr>\n",
       "  </thead>\n",
       "  <tbody>\n",
       "    <tr>\n",
       "      <th>0</th>\n",
       "      <td>AZIMUT Hotel City South Berlin</td>\n",
       "      <td>Neukölln</td>\n",
       "      <td>117</td>\n",
       "    </tr>\n",
       "    <tr>\n",
       "      <th>1</th>\n",
       "      <td>Adele Designhotel</td>\n",
       "      <td>Pankow</td>\n",
       "      <td>144</td>\n",
       "    </tr>\n",
       "  </tbody>\n",
       "</table>\n",
       "</div>"
      ],
      "text/plain": [
       "                             name      area  price\n",
       "0  AZIMUT Hotel City South Berlin  Neukölln    117\n",
       "1               Adele Designhotel    Pankow    144"
      ]
     },
     "execution_count": 3,
     "metadata": {},
     "output_type": "execute_result"
    }
   ],
   "source": [
    "#Transformatin of df. area\n",
    "df = df.replace(\"Hessenwinkel\", \"Treptow-Köpenick\")\n",
    "#rename columns\n",
    "df.columns=[\"name\", \"area\", \"price\"]\n",
    "df_bp.columns = [\"name\", \"price\", \"street\", \"area\", \"zip\"]\n",
    "df.head(2)"
   ]
  },
  {
   "cell_type": "code",
   "execution_count": 4,
   "metadata": {},
   "outputs": [
    {
     "data": {
      "text/html": [
       "<div>\n",
       "<style scoped>\n",
       "    .dataframe tbody tr th:only-of-type {\n",
       "        vertical-align: middle;\n",
       "    }\n",
       "\n",
       "    .dataframe tbody tr th {\n",
       "        vertical-align: top;\n",
       "    }\n",
       "\n",
       "    .dataframe thead th {\n",
       "        text-align: right;\n",
       "    }\n",
       "</style>\n",
       "<table border=\"1\" class=\"dataframe\">\n",
       "  <thead>\n",
       "    <tr style=\"text-align: right;\">\n",
       "      <th></th>\n",
       "      <th>name</th>\n",
       "      <th>price</th>\n",
       "      <th>street</th>\n",
       "      <th>area</th>\n",
       "      <th>zip</th>\n",
       "    </tr>\n",
       "  </thead>\n",
       "  <tbody>\n",
       "    <tr>\n",
       "      <th>0</th>\n",
       "      <td>City Hotel am Gendarmenmarkt</td>\n",
       "      <td>107</td>\n",
       "      <td>Leipziger Str. 65</td>\n",
       "      <td>Mitte</td>\n",
       "      <td>10117 Berlin, Germany</td>\n",
       "    </tr>\n",
       "    <tr>\n",
       "      <th>4</th>\n",
       "      <td>mk hotel berlin</td>\n",
       "      <td>91</td>\n",
       "      <td>Osloer Straße 100</td>\n",
       "      <td>Mitte</td>\n",
       "      <td>13359 Berlin, Germany</td>\n",
       "    </tr>\n",
       "  </tbody>\n",
       "</table>\n",
       "</div>"
      ],
      "text/plain": [
       "                           name price             street    area  \\\n",
       "0  City Hotel am Gendarmenmarkt   107  Leipziger Str. 65   Mitte   \n",
       "4               mk hotel berlin    91  Osloer Straße 100   Mitte   \n",
       "\n",
       "                      zip  \n",
       "0   10117 Berlin, Germany  \n",
       "4   13359 Berlin, Germany  "
      ]
     },
     "execution_count": 4,
     "metadata": {},
     "output_type": "execute_result"
    }
   ],
   "source": [
    "df_bp.head(2)"
   ]
  },
  {
   "cell_type": "code",
   "execution_count": 5,
   "metadata": {},
   "outputs": [
    {
     "data": {
      "text/html": [
       "<div>\n",
       "<style scoped>\n",
       "    .dataframe tbody tr th:only-of-type {\n",
       "        vertical-align: middle;\n",
       "    }\n",
       "\n",
       "    .dataframe tbody tr th {\n",
       "        vertical-align: top;\n",
       "    }\n",
       "\n",
       "    .dataframe thead th {\n",
       "        text-align: right;\n",
       "    }\n",
       "</style>\n",
       "<table border=\"1\" class=\"dataframe\">\n",
       "  <thead>\n",
       "    <tr style=\"text-align: right;\">\n",
       "      <th></th>\n",
       "      <th>name</th>\n",
       "      <th>price</th>\n",
       "      <th>area</th>\n",
       "      <th>source</th>\n",
       "    </tr>\n",
       "  </thead>\n",
       "  <tbody>\n",
       "    <tr>\n",
       "      <th>0</th>\n",
       "      <td>10103806</td>\n",
       "      <td>40</td>\n",
       "      <td>Neukölln</td>\n",
       "      <td>airbnb</td>\n",
       "    </tr>\n",
       "    <tr>\n",
       "      <th>1</th>\n",
       "      <td>16187267</td>\n",
       "      <td>40</td>\n",
       "      <td>Neukölln</td>\n",
       "      <td>airbnb</td>\n",
       "    </tr>\n",
       "  </tbody>\n",
       "</table>\n",
       "</div>"
      ],
      "text/plain": [
       "       name  price      area  source\n",
       "0  10103806     40  Neukölln  airbnb\n",
       "1  16187267     40  Neukölln  airbnb"
      ]
     },
     "execution_count": 5,
     "metadata": {},
     "output_type": "execute_result"
    }
   ],
   "source": [
    "df_air.head(2)"
   ]
  },
  {
   "cell_type": "code",
   "execution_count": 6,
   "metadata": {},
   "outputs": [],
   "source": [
    "# to measure the density of hotels per area, we only need the hotel and the area columns\n",
    "df_bp = df_bp.drop([ \"street\", \"zip\"], axis=1)"
   ]
  },
  {
   "cell_type": "markdown",
   "metadata": {},
   "source": [
    "##### Merge all the tables "
   ]
  },
  {
   "cell_type": "code",
   "execution_count": 7,
   "metadata": {},
   "outputs": [],
   "source": [
    "merged = df.append(df_bp, ignore_index=True, sort=True)"
   ]
  },
  {
   "cell_type": "code",
   "execution_count": 8,
   "metadata": {},
   "outputs": [
    {
     "data": {
      "text/html": [
       "<div>\n",
       "<style scoped>\n",
       "    .dataframe tbody tr th:only-of-type {\n",
       "        vertical-align: middle;\n",
       "    }\n",
       "\n",
       "    .dataframe tbody tr th {\n",
       "        vertical-align: top;\n",
       "    }\n",
       "\n",
       "    .dataframe thead th {\n",
       "        text-align: right;\n",
       "    }\n",
       "</style>\n",
       "<table border=\"1\" class=\"dataframe\">\n",
       "  <thead>\n",
       "    <tr style=\"text-align: right;\">\n",
       "      <th></th>\n",
       "      <th>area</th>\n",
       "      <th>name</th>\n",
       "      <th>price</th>\n",
       "      <th>source</th>\n",
       "    </tr>\n",
       "  </thead>\n",
       "  <tbody>\n",
       "    <tr>\n",
       "      <th>0</th>\n",
       "      <td>Neukölln</td>\n",
       "      <td>AZIMUT Hotel City South Berlin</td>\n",
       "      <td>117</td>\n",
       "      <td>hotel</td>\n",
       "    </tr>\n",
       "    <tr>\n",
       "      <th>1</th>\n",
       "      <td>Pankow</td>\n",
       "      <td>Adele Designhotel</td>\n",
       "      <td>144</td>\n",
       "      <td>hotel</td>\n",
       "    </tr>\n",
       "  </tbody>\n",
       "</table>\n",
       "</div>"
      ],
      "text/plain": [
       "       area                            name price source\n",
       "0  Neukölln  AZIMUT Hotel City South Berlin   117  hotel\n",
       "1    Pankow               Adele Designhotel   144  hotel"
      ]
     },
     "execution_count": 8,
     "metadata": {},
     "output_type": "execute_result"
    }
   ],
   "source": [
    "#Create Column that indicates source\n",
    "merged[\"source\"] = \"hotel\"\n",
    "merged.head(2)"
   ]
  },
  {
   "cell_type": "code",
   "execution_count": 9,
   "metadata": {},
   "outputs": [
    {
     "data": {
      "text/html": [
       "<div>\n",
       "<style scoped>\n",
       "    .dataframe tbody tr th:only-of-type {\n",
       "        vertical-align: middle;\n",
       "    }\n",
       "\n",
       "    .dataframe tbody tr th {\n",
       "        vertical-align: top;\n",
       "    }\n",
       "\n",
       "    .dataframe thead th {\n",
       "        text-align: right;\n",
       "    }\n",
       "</style>\n",
       "<table border=\"1\" class=\"dataframe\">\n",
       "  <thead>\n",
       "    <tr style=\"text-align: right;\">\n",
       "      <th></th>\n",
       "      <th>area</th>\n",
       "      <th>name</th>\n",
       "      <th>price</th>\n",
       "      <th>source</th>\n",
       "    </tr>\n",
       "  </thead>\n",
       "  <tbody>\n",
       "    <tr>\n",
       "      <th>0</th>\n",
       "      <td>Neukölln</td>\n",
       "      <td>AZIMUT Hotel City South Berlin</td>\n",
       "      <td>117</td>\n",
       "      <td>hotel</td>\n",
       "    </tr>\n",
       "    <tr>\n",
       "      <th>1</th>\n",
       "      <td>Pankow</td>\n",
       "      <td>Adele Designhotel</td>\n",
       "      <td>144</td>\n",
       "      <td>hotel</td>\n",
       "    </tr>\n",
       "  </tbody>\n",
       "</table>\n",
       "</div>"
      ],
      "text/plain": [
       "       area                            name price source\n",
       "0  Neukölln  AZIMUT Hotel City South Berlin   117  hotel\n",
       "1    Pankow               Adele Designhotel   144  hotel"
      ]
     },
     "execution_count": 9,
     "metadata": {},
     "output_type": "execute_result"
    }
   ],
   "source": [
    "merged.head(2)"
   ]
  },
  {
   "cell_type": "code",
   "execution_count": 10,
   "metadata": {},
   "outputs": [],
   "source": [
    "merged_all = merged.append(df_air, ignore_index=True, sort = True)"
   ]
  },
  {
   "cell_type": "code",
   "execution_count": 11,
   "metadata": {},
   "outputs": [
    {
     "data": {
      "text/html": [
       "<div>\n",
       "<style scoped>\n",
       "    .dataframe tbody tr th:only-of-type {\n",
       "        vertical-align: middle;\n",
       "    }\n",
       "\n",
       "    .dataframe tbody tr th {\n",
       "        vertical-align: top;\n",
       "    }\n",
       "\n",
       "    .dataframe thead th {\n",
       "        text-align: right;\n",
       "    }\n",
       "</style>\n",
       "<table border=\"1\" class=\"dataframe\">\n",
       "  <thead>\n",
       "    <tr style=\"text-align: right;\">\n",
       "      <th></th>\n",
       "      <th>area</th>\n",
       "      <th>name</th>\n",
       "      <th>price</th>\n",
       "      <th>source</th>\n",
       "    </tr>\n",
       "  </thead>\n",
       "  <tbody>\n",
       "    <tr>\n",
       "      <th>0</th>\n",
       "      <td>Neukölln</td>\n",
       "      <td>AZIMUT Hotel City South Berlin</td>\n",
       "      <td>117</td>\n",
       "      <td>hotel</td>\n",
       "    </tr>\n",
       "    <tr>\n",
       "      <th>1</th>\n",
       "      <td>Pankow</td>\n",
       "      <td>Adele Designhotel</td>\n",
       "      <td>144</td>\n",
       "      <td>hotel</td>\n",
       "    </tr>\n",
       "    <tr>\n",
       "      <th>2</th>\n",
       "      <td>Mitte</td>\n",
       "      <td>Adina Apartment Hotel Berlin CheckPoint Charlie</td>\n",
       "      <td>229</td>\n",
       "      <td>hotel</td>\n",
       "    </tr>\n",
       "    <tr>\n",
       "      <th>3</th>\n",
       "      <td>Berlin</td>\n",
       "      <td>All In Hostel / Hotel Berlin</td>\n",
       "      <td>26</td>\n",
       "      <td>hotel</td>\n",
       "    </tr>\n",
       "    <tr>\n",
       "      <th>4</th>\n",
       "      <td>Charlottenburg-Wilmersdorf</td>\n",
       "      <td>Amc Apartments Ku Damm</td>\n",
       "      <td>293</td>\n",
       "      <td>hotel</td>\n",
       "    </tr>\n",
       "    <tr>\n",
       "      <th>...</th>\n",
       "      <td>...</td>\n",
       "      <td>...</td>\n",
       "      <td>...</td>\n",
       "      <td>...</td>\n",
       "    </tr>\n",
       "    <tr>\n",
       "      <th>10372</th>\n",
       "      <td>Friedrichshain-Kreuzberg</td>\n",
       "      <td>3701258</td>\n",
       "      <td>29</td>\n",
       "      <td>airbnb</td>\n",
       "    </tr>\n",
       "    <tr>\n",
       "      <th>10373</th>\n",
       "      <td>Friedrichshain-Kreuzberg</td>\n",
       "      <td>5009958</td>\n",
       "      <td>44</td>\n",
       "      <td>airbnb</td>\n",
       "    </tr>\n",
       "    <tr>\n",
       "      <th>10374</th>\n",
       "      <td>Friedrichshain-Kreuzberg</td>\n",
       "      <td>8284795</td>\n",
       "      <td>31</td>\n",
       "      <td>airbnb</td>\n",
       "    </tr>\n",
       "    <tr>\n",
       "      <th>10375</th>\n",
       "      <td>Friedrichshain-Kreuzberg</td>\n",
       "      <td>16279286</td>\n",
       "      <td>61</td>\n",
       "      <td>airbnb</td>\n",
       "    </tr>\n",
       "    <tr>\n",
       "      <th>10376</th>\n",
       "      <td>Friedrichshain-Kreuzberg</td>\n",
       "      <td>13131242</td>\n",
       "      <td>40</td>\n",
       "      <td>airbnb</td>\n",
       "    </tr>\n",
       "  </tbody>\n",
       "</table>\n",
       "<p>10377 rows × 4 columns</p>\n",
       "</div>"
      ],
      "text/plain": [
       "                             area  \\\n",
       "0                        Neukölln   \n",
       "1                          Pankow   \n",
       "2                           Mitte   \n",
       "3                          Berlin   \n",
       "4      Charlottenburg-Wilmersdorf   \n",
       "...                           ...   \n",
       "10372    Friedrichshain-Kreuzberg   \n",
       "10373    Friedrichshain-Kreuzberg   \n",
       "10374    Friedrichshain-Kreuzberg   \n",
       "10375    Friedrichshain-Kreuzberg   \n",
       "10376    Friedrichshain-Kreuzberg   \n",
       "\n",
       "                                                  name price  source  \n",
       "0                       AZIMUT Hotel City South Berlin   117   hotel  \n",
       "1                                    Adele Designhotel   144   hotel  \n",
       "2      Adina Apartment Hotel Berlin CheckPoint Charlie   229   hotel  \n",
       "3                         All In Hostel / Hotel Berlin    26   hotel  \n",
       "4                               Amc Apartments Ku Damm   293   hotel  \n",
       "...                                                ...   ...     ...  \n",
       "10372                                          3701258    29  airbnb  \n",
       "10373                                          5009958    44  airbnb  \n",
       "10374                                          8284795    31  airbnb  \n",
       "10375                                         16279286    61  airbnb  \n",
       "10376                                         13131242    40  airbnb  \n",
       "\n",
       "[10377 rows x 4 columns]"
      ]
     },
     "execution_count": 11,
     "metadata": {},
     "output_type": "execute_result"
    }
   ],
   "source": [
    "merged_all"
   ]
  },
  {
   "cell_type": "markdown",
   "metadata": {},
   "source": [
    "##### Transformations"
   ]
  },
  {
   "cell_type": "code",
   "execution_count": 12,
   "metadata": {},
   "outputs": [
    {
     "data": {
      "text/plain": [
       "array(['Neukölln', 'Pankow', 'Mitte', 'Berlin',\n",
       "       'Charlottenburg-Wilmersdorf', 'Spandau', 'Lichtenberg',\n",
       "       'Treptow-Köpenick', ' Mitte', ' Charlottenburg-Wilmersdorf',\n",
       "       ' Friedrichshain-Kreuzberg', ' Tempelhof-Schöneberg',\n",
       "       ' Reinickendorf', ' Lichtenberg', ' Prenzlauer Berg', ' Neukölln',\n",
       "       ' Treptow-Köpenick', ' Steglitz-Zehlendorf', ' 80-82', ' Spandau',\n",
       "       ' Pankow', ' Marzahn-Hellersdorf', ' 10787 Berlin',\n",
       "       'Friedrichshain-Kreuzberg', 'Charlottenburg-Wilm.',\n",
       "       'Marzahn - Hellersdorf', 'Reinickendorf', 'Steglitz - Zehlendorf',\n",
       "       'Tempelhof - Schöneberg', 'Treptow - Köpenick'], dtype=object)"
      ]
     },
     "execution_count": 12,
     "metadata": {},
     "output_type": "execute_result"
    }
   ],
   "source": [
    "merged_all.area.unique()"
   ]
  },
  {
   "cell_type": "code",
   "execution_count": 13,
   "metadata": {},
   "outputs": [],
   "source": [
    "# get rid of the € signs in price\n",
    "#merged_data_full.price.replace(regex=True,inplace=True,to_replace=r'\\D',value=r'')"
   ]
  },
  {
   "cell_type": "code",
   "execution_count": 14,
   "metadata": {},
   "outputs": [
    {
     "data": {
      "text/plain": [
       "acama Hotel & Hostel Kreuzberg    2\n",
       "Orania.Berlin                     2\n",
       "Hotel Klassik Berlin              2\n",
       "OYO Hotel Bohemia                 2\n",
       "Come Inn Berlin Kurfürstendamm    2\n",
       "                                 ..\n",
       "17335845                          1\n",
       "4518943                           1\n",
       "14937304                          1\n",
       "17659524                          1\n",
       "6689215                           1\n",
       "Name: name, Length: 10353, dtype: int64"
      ]
     },
     "execution_count": 14,
     "metadata": {},
     "output_type": "execute_result"
    }
   ],
   "source": [
    "#we have 24 duplicates\n",
    "merged_all[\"name\"].value_counts()"
   ]
  },
  {
   "cell_type": "code",
   "execution_count": 15,
   "metadata": {},
   "outputs": [],
   "source": [
    "#drop duplicates\n",
    "merged_all[\"name\"] = merged_all[\"name\"].drop_duplicates()"
   ]
  },
  {
   "cell_type": "code",
   "execution_count": 16,
   "metadata": {},
   "outputs": [
    {
     "data": {
      "text/plain": [
       "13093195    1\n",
       "14866284    1\n",
       "524714      1\n",
       "16139086    1\n",
       "17215605    1\n",
       "           ..\n",
       "5107207     1\n",
       "13542953    1\n",
       "7513780     1\n",
       "1982121     1\n",
       "6689215     1\n",
       "Name: name, Length: 10353, dtype: int64"
      ]
     },
     "execution_count": 16,
     "metadata": {},
     "output_type": "execute_result"
    }
   ],
   "source": [
    "merged_all[\"name\"].value_counts()"
   ]
  },
  {
   "cell_type": "markdown",
   "metadata": {},
   "source": [
    "##### Inspect Data Types"
   ]
  },
  {
   "cell_type": "code",
   "execution_count": 17,
   "metadata": {},
   "outputs": [
    {
     "data": {
      "text/plain": [
       "area      object\n",
       "name      object\n",
       "price     object\n",
       "source    object\n",
       "dtype: object"
      ]
     },
     "execution_count": 17,
     "metadata": {},
     "output_type": "execute_result"
    }
   ],
   "source": [
    "merged_all.dtypes"
   ]
  },
  {
   "cell_type": "code",
   "execution_count": 18,
   "metadata": {},
   "outputs": [
    {
     "data": {
      "text/plain": [
       "array(['Neukölln', 'Pankow', 'Mitte', 'Berlin',\n",
       "       'Charlottenburg-Wilmersdorf', 'Spandau', 'Lichtenberg',\n",
       "       'Treptow-Köpenick', ' Mitte', ' Charlottenburg-Wilmersdorf',\n",
       "       ' Friedrichshain-Kreuzberg', ' Tempelhof-Schöneberg',\n",
       "       ' Reinickendorf', ' Lichtenberg', ' Prenzlauer Berg', ' Neukölln',\n",
       "       ' Treptow-Köpenick', ' Steglitz-Zehlendorf', ' 80-82', ' Spandau',\n",
       "       ' Pankow', ' Marzahn-Hellersdorf', ' 10787 Berlin',\n",
       "       'Friedrichshain-Kreuzberg', 'Charlottenburg-Wilm.',\n",
       "       'Marzahn - Hellersdorf', 'Reinickendorf', 'Steglitz - Zehlendorf',\n",
       "       'Tempelhof - Schöneberg', 'Treptow - Köpenick'], dtype=object)"
      ]
     },
     "execution_count": 18,
     "metadata": {},
     "output_type": "execute_result"
    }
   ],
   "source": [
    "merged_all.area.unique()"
   ]
  },
  {
   "cell_type": "code",
   "execution_count": 19,
   "metadata": {},
   "outputs": [],
   "source": [
    "#remove spacing in the fromt of area name\n",
    "merged_all.area = merged_all.area.str.lstrip()"
   ]
  },
  {
   "cell_type": "code",
   "execution_count": 20,
   "metadata": {},
   "outputs": [],
   "source": [
    "#remove weird area data and rename area Berlin to unknown\n",
    "merged_all.area = merged_all.area.replace(\"Berlin\", \"unknown\")\n",
    "merged_all.area = merged_all.area.replace(\"80-82\", \"unknown\")\n",
    "merged_all.area = merged_all.area.replace(\"10787 Berlin\", \"Tempelhof-Schöneberg\")\n",
    "merged_all.area = merged_all.area.replace(\"Charlottenburg-Wilm.\", \"Charlottenburg-Wilmersdorf\")\n",
    "merged_all.area = merged_all.area.replace(\"Marzahn - Hellersdorf\", \"Marzahn-Hellersdorf\")\n",
    "merged_all.area = merged_all.area.replace(\"Steglitz - Zehlendorf\", \"Steglitz-Zehlendorf\")\n",
    "merged_all.area = merged_all.area.replace(\"Tempelhof - Schöneberg\", \"Tempelhof-Schöneberg\")\n",
    "merged_all.area = merged_all.area.replace(\"Treptow - Köpenick\", \"Treptow-Köpenick\")\n",
    "merged_all.area = merged_all.area.replace(\"Prenzlauer Berg\", \"Pankow\")"
   ]
  },
  {
   "cell_type": "code",
   "execution_count": 21,
   "metadata": {},
   "outputs": [
    {
     "data": {
      "text/plain": [
       "array(['Neukölln', 'Pankow', 'Mitte', 'unknown',\n",
       "       'Charlottenburg-Wilmersdorf', 'Spandau', 'Lichtenberg',\n",
       "       'Treptow-Köpenick', 'Friedrichshain-Kreuzberg',\n",
       "       'Tempelhof-Schöneberg', 'Reinickendorf', 'Steglitz-Zehlendorf',\n",
       "       'Marzahn-Hellersdorf'], dtype=object)"
      ]
     },
     "execution_count": 21,
     "metadata": {},
     "output_type": "execute_result"
    }
   ],
   "source": [
    "merged_all.area.unique()"
   ]
  },
  {
   "cell_type": "code",
   "execution_count": 22,
   "metadata": {},
   "outputs": [],
   "source": [
    "# save price as int\n",
    "merged_all[\"price\"] = merged_all[\"price\"].astype(\"float\")"
   ]
  },
  {
   "cell_type": "code",
   "execution_count": 23,
   "metadata": {},
   "outputs": [
    {
     "data": {
      "text/html": [
       "<div>\n",
       "<style scoped>\n",
       "    .dataframe tbody tr th:only-of-type {\n",
       "        vertical-align: middle;\n",
       "    }\n",
       "\n",
       "    .dataframe tbody tr th {\n",
       "        vertical-align: top;\n",
       "    }\n",
       "\n",
       "    .dataframe thead th {\n",
       "        text-align: right;\n",
       "    }\n",
       "</style>\n",
       "<table border=\"1\" class=\"dataframe\">\n",
       "  <thead>\n",
       "    <tr style=\"text-align: right;\">\n",
       "      <th></th>\n",
       "      <th>area</th>\n",
       "      <th>name</th>\n",
       "      <th>price</th>\n",
       "      <th>source</th>\n",
       "    </tr>\n",
       "  </thead>\n",
       "  <tbody>\n",
       "    <tr>\n",
       "      <th>0</th>\n",
       "      <td>Neukölln</td>\n",
       "      <td>AZIMUT Hotel City South Berlin</td>\n",
       "      <td>117.0</td>\n",
       "      <td>hotel</td>\n",
       "    </tr>\n",
       "    <tr>\n",
       "      <th>1</th>\n",
       "      <td>Pankow</td>\n",
       "      <td>Adele Designhotel</td>\n",
       "      <td>144.0</td>\n",
       "      <td>hotel</td>\n",
       "    </tr>\n",
       "    <tr>\n",
       "      <th>2</th>\n",
       "      <td>Mitte</td>\n",
       "      <td>Adina Apartment Hotel Berlin CheckPoint Charlie</td>\n",
       "      <td>229.0</td>\n",
       "      <td>hotel</td>\n",
       "    </tr>\n",
       "    <tr>\n",
       "      <th>3</th>\n",
       "      <td>unknown</td>\n",
       "      <td>All In Hostel / Hotel Berlin</td>\n",
       "      <td>26.0</td>\n",
       "      <td>hotel</td>\n",
       "    </tr>\n",
       "    <tr>\n",
       "      <th>4</th>\n",
       "      <td>Charlottenburg-Wilmersdorf</td>\n",
       "      <td>Amc Apartments Ku Damm</td>\n",
       "      <td>293.0</td>\n",
       "      <td>hotel</td>\n",
       "    </tr>\n",
       "    <tr>\n",
       "      <th>...</th>\n",
       "      <td>...</td>\n",
       "      <td>...</td>\n",
       "      <td>...</td>\n",
       "      <td>...</td>\n",
       "    </tr>\n",
       "    <tr>\n",
       "      <th>10372</th>\n",
       "      <td>Friedrichshain-Kreuzberg</td>\n",
       "      <td>3701258</td>\n",
       "      <td>29.0</td>\n",
       "      <td>airbnb</td>\n",
       "    </tr>\n",
       "    <tr>\n",
       "      <th>10373</th>\n",
       "      <td>Friedrichshain-Kreuzberg</td>\n",
       "      <td>5009958</td>\n",
       "      <td>44.0</td>\n",
       "      <td>airbnb</td>\n",
       "    </tr>\n",
       "    <tr>\n",
       "      <th>10374</th>\n",
       "      <td>Friedrichshain-Kreuzberg</td>\n",
       "      <td>8284795</td>\n",
       "      <td>31.0</td>\n",
       "      <td>airbnb</td>\n",
       "    </tr>\n",
       "    <tr>\n",
       "      <th>10375</th>\n",
       "      <td>Friedrichshain-Kreuzberg</td>\n",
       "      <td>16279286</td>\n",
       "      <td>61.0</td>\n",
       "      <td>airbnb</td>\n",
       "    </tr>\n",
       "    <tr>\n",
       "      <th>10376</th>\n",
       "      <td>Friedrichshain-Kreuzberg</td>\n",
       "      <td>13131242</td>\n",
       "      <td>40.0</td>\n",
       "      <td>airbnb</td>\n",
       "    </tr>\n",
       "  </tbody>\n",
       "</table>\n",
       "<p>10377 rows × 4 columns</p>\n",
       "</div>"
      ],
      "text/plain": [
       "                             area  \\\n",
       "0                        Neukölln   \n",
       "1                          Pankow   \n",
       "2                           Mitte   \n",
       "3                         unknown   \n",
       "4      Charlottenburg-Wilmersdorf   \n",
       "...                           ...   \n",
       "10372    Friedrichshain-Kreuzberg   \n",
       "10373    Friedrichshain-Kreuzberg   \n",
       "10374    Friedrichshain-Kreuzberg   \n",
       "10375    Friedrichshain-Kreuzberg   \n",
       "10376    Friedrichshain-Kreuzberg   \n",
       "\n",
       "                                                  name  price  source  \n",
       "0                       AZIMUT Hotel City South Berlin  117.0   hotel  \n",
       "1                                    Adele Designhotel  144.0   hotel  \n",
       "2      Adina Apartment Hotel Berlin CheckPoint Charlie  229.0   hotel  \n",
       "3                         All In Hostel / Hotel Berlin   26.0   hotel  \n",
       "4                               Amc Apartments Ku Damm  293.0   hotel  \n",
       "...                                                ...    ...     ...  \n",
       "10372                                          3701258   29.0  airbnb  \n",
       "10373                                          5009958   44.0  airbnb  \n",
       "10374                                          8284795   31.0  airbnb  \n",
       "10375                                         16279286   61.0  airbnb  \n",
       "10376                                         13131242   40.0  airbnb  \n",
       "\n",
       "[10377 rows x 4 columns]"
      ]
     },
     "execution_count": 23,
     "metadata": {},
     "output_type": "execute_result"
    }
   ],
   "source": [
    "merged_all"
   ]
  },
  {
   "cell_type": "markdown",
   "metadata": {},
   "source": [
    "##### Descriptive Statistics"
   ]
  },
  {
   "cell_type": "code",
   "execution_count": 24,
   "metadata": {},
   "outputs": [
    {
     "data": {
      "text/plain": [
       "(array([ 0,  1,  2,  3,  4,  5,  6,  7,  8,  9, 10, 11, 12]),\n",
       " <a list of 13 Text xticklabel objects>)"
      ]
     },
     "execution_count": 24,
     "metadata": {},
     "output_type": "execute_result"
    },
    {
     "data": {
      "image/png": "[encoded data removed]",
      "text/plain": [
       "<Figure size 720x432 with 1 Axes>"
      ]
     },
     "metadata": {
      "needs_background": "light"
     },
     "output_type": "display_data"
    }
   ],
   "source": [
    "# Price comparison between hotels and air bnb\n",
    "price_chart = merged_all.groupby([\"area\", \"source\"]).median().unstack().plot(figsize=(10,6),kind=\"bar\");\n",
    "price_chart;\n",
    "plt.legend();\n",
    "plt.xlabel(\"Area\", size = 15);\n",
    "plt.ylabel(\" Median Price in €\", size = 15);\n",
    "plt.title(\"Hotel and AirBnB Prices/Night per Area in Berlin\", size = 20);\n",
    "plt.xticks(rotation=90)"
   ]
  },
  {
   "cell_type": "code",
   "execution_count": 25,
   "metadata": {},
   "outputs": [
    {
     "data": {
      "text/plain": [
       "(array([ 0,  1,  2,  3,  4,  5,  6,  7,  8,  9, 10, 11, 12]),\n",
       " <a list of 13 Text xticklabel objects>)"
      ]
     },
     "execution_count": 25,
     "metadata": {},
     "output_type": "execute_result"
    },
    {
     "data": {
      "image/png": "[encoded data removed]",
      "text/plain": [
       "<Figure size 720x432 with 1 Axes>"
      ]
     },
     "metadata": {
      "needs_background": "light"
     },
     "output_type": "display_data"
    }
   ],
   "source": [
    "# here we can clearly see the difference in price\n",
    "merged_all.groupby([\"area\", \"source\"]).median().unstack().plot.bar(figsize=(10,6),stacked=True)\n",
    "plt.legend();\n",
    "plt.xlabel(\"Area\", size = 15);\n",
    "plt.ylabel(\"Median Price in €\", size = 15);\n",
    "plt.title(\"Hotel and AirBnB Prices/Night per Area in Berlin\", size = 20);\n",
    "plt.xticks(rotation=90)"
   ]
  },
  {
   "cell_type": "code",
   "execution_count": 26,
   "metadata": {},
   "outputs": [
    {
     "data": {
      "text/plain": [
       "(array([ 0,  1,  2,  3,  4,  5,  6,  7,  8,  9, 10, 11, 12]),\n",
       " <a list of 13 Text xticklabel objects>)"
      ]
     },
     "execution_count": 26,
     "metadata": {},
     "output_type": "execute_result"
    },
    {
     "data": {
      "image/png": "[encoded data removed]",
      "text/plain": [
       "<Figure size 720x1152 with 1 Axes>"
      ]
     },
     "metadata": {
      "needs_background": "light"
     },
     "output_type": "display_data"
    }
   ],
   "source": [
    "# density comparison between hotels and air bnb\n",
    "density_chart = merged_all.sort_values([\"area\", \"source\"]).reset_index(drop=True).groupby([\"area\", \"source\"]).size().unstack().plot(figsize=(10,16),kind=\"bar\");\n",
    "density_chart;\n",
    "plt.legend();\n",
    "plt.xlabel(\"Area\", size = 15);\n",
    "plt.ylabel(\"Number of Listings\", size = 15);\n",
    "plt.title(\"Hotel and AirBnB Listings per Area in Berlin\", size = 20);\n",
    "plt.xticks(rotation=90)"
   ]
  },
  {
   "cell_type": "code",
   "execution_count": 27,
   "metadata": {},
   "outputs": [
    {
     "data": {
      "image/png": "[encoded data removed]",
      "text/plain": [
       "<Figure size 432x288 with 1 Axes>"
      ]
     },
     "metadata": {
      "needs_background": "light"
     },
     "output_type": "display_data"
    }
   ],
   "source": [
    "# hstogram is no use to us here \n",
    "merged_all.sort_values([\"area\", \"source\"]).reset_index(drop=True).groupby([\"area\", \"source\"]).size().unstack().plot.hist(alpha=0.5);"
   ]
  },
  {
   "cell_type": "code",
   "execution_count": 28,
   "metadata": {},
   "outputs": [],
   "source": [
    "#merged_data_full.boxplot(column=\"price\")\n",
    "\n",
    "#we have outliers - might consider a drop of the one thats 600+ per night"
   ]
  },
  {
   "cell_type": "code",
   "execution_count": 29,
   "metadata": {},
   "outputs": [],
   "source": [
    "#merged_all"
   ]
  },
  {
   "cell_type": "code",
   "execution_count": 30,
   "metadata": {},
   "outputs": [],
   "source": [
    "# number of hotels and air bnb's per area\n",
    "#n = merged_all.groupby([\"area\",\"source\"]).size()\n",
    "#n"
   ]
  },
  {
   "cell_type": "code",
   "execution_count": 31,
   "metadata": {
    "scrolled": false
   },
   "outputs": [],
   "source": [
    "#n.agg(\"n.size()\").reset_index().plot(kind=\"bar\");"
   ]
  },
  {
   "cell_type": "code",
   "execution_count": 32,
   "metadata": {},
   "outputs": [],
   "source": [
    "#chart = Chart(merged_all).mark_bar().encode(column=Column(\"source\"), x=X(\"area\"), y=Y(\"name\"), color=Color(\"source\", scale=Scale(range=['#EA98D2', '#659CCA']))).configure_facet_cell(strokeWidth=0.0,)\n",
    "\n",
    "#chart.display()"
   ]
  },
  {
   "cell_type": "code",
   "execution_count": 33,
   "metadata": {},
   "outputs": [],
   "source": [
    "#merged_data_full['area'].value_counts().plot.bar()\n",
    "\n",
    "#merged_data_full[['area','source']].plot(kind='bar')\n",
    "\n",
    "#most hotels are in Mitte & Charlottenburg "
   ]
  },
  {
   "cell_type": "code",
   "execution_count": 34,
   "metadata": {},
   "outputs": [],
   "source": [
    "#hotel_li=[merged_data_full[merged_data_full[\"source\"] == \"hotel\"].count()]\n",
    "#airbnb_li=[merged_data_full[merged_data_full[\"source\"] == \"airbnb\"].count()]\n",
    "#index_area = [merged_data_full[\"area\"]]\n",
    "#df_area = pd.DataFrame({'hotel': hotel_li, 'airbnb': airbnb_li}, index=index_area)\n",
    "#ax = merged_data_full.plot.bar(rot=0)"
   ]
  },
  {
   "cell_type": "code",
   "execution_count": 35,
   "metadata": {},
   "outputs": [],
   "source": [
    "#[merged_data_full[merged_data_full[\"source\"] == \"hotel\"].groupby([\"area\"]).count()]"
   ]
  },
  {
   "cell_type": "code",
   "execution_count": 36,
   "metadata": {},
   "outputs": [],
   "source": [
    "#hotel_li = (merged_data_full[[\"area\",\"source\"]]\n",
    "#          .groupby([\"area\", \"source\"])\n",
    "#          .agg({\"source\": [\"count\"]}))\n",
    "\n",
    "#hotel_li"
   ]
  },
  {
   "cell_type": "code",
   "execution_count": 37,
   "metadata": {},
   "outputs": [],
   "source": [
    "#hotel_li = []\n",
    "#i = 0\n",
    "#for merged_data_full['source'].iloc[i] in merged_data_full['source'] == \"hotel\":\n",
    "#    (merged_data_full[[\"area\",\"source\"]]\n",
    "#          .groupby([\"area\", \"source\"])\n",
    " #         .agg({(\"source\"): [\"count\"]}))\n",
    "  #  hotel_li.append(merged_data_full['source'].iloc[i])\n",
    "   # i +=1\n",
    "#\n",
    "#hotel_li"
   ]
  },
  {
   "cell_type": "code",
   "execution_count": 38,
   "metadata": {},
   "outputs": [],
   "source": [
    "#[merged_data_full[merged_data_full[\"source\"] == \"hotel\"].groupby(\"area\").count()]"
   ]
  },
  {
   "cell_type": "markdown",
   "metadata": {},
   "source": [
    "##### Create aggregate Dataset for plotting "
   ]
  },
  {
   "cell_type": "code",
   "execution_count": 39,
   "metadata": {},
   "outputs": [],
   "source": [
    "#df_agg = (merged_data_full[[\"area\", \"price\", \"source\"]]\n",
    " #         .groupby([\"area\", \"source\"])\n",
    "  #        .agg({\"price\": [\"median\", \"count\"]}))\n",
    "#\n",
    "#df_agg = (df_agg\n",
    "#          .reset_index())\n",
    "#df_agg.head()"
   ]
  },
  {
   "cell_type": "markdown",
   "metadata": {},
   "source": [
    "##### remove weird indexes"
   ]
  },
  {
   "cell_type": "code",
   "execution_count": 40,
   "metadata": {},
   "outputs": [],
   "source": [
    "#df_agg.columns"
   ]
  },
  {
   "cell_type": "code",
   "execution_count": 41,
   "metadata": {},
   "outputs": [],
   "source": [
    "#list(df_agg.columns.to_flat_index())"
   ]
  },
  {
   "cell_type": "code",
   "execution_count": 42,
   "metadata": {},
   "outputs": [],
   "source": [
    "#[first+second for first, second in df_agg.columns]"
   ]
  },
  {
   "cell_type": "code",
   "execution_count": 43,
   "metadata": {},
   "outputs": [],
   "source": [
    "#df_agg.columns = [first+second for first, second in df_agg.columns.to_flat_index()]"
   ]
  },
  {
   "cell_type": "code",
   "execution_count": 44,
   "metadata": {},
   "outputs": [],
   "source": [
    "#df_agg = df_agg.rename(columns={\"pricemedian\": \"median_price\",\n",
    "#                                \"pricecount\": \"counts\"})"
   ]
  },
  {
   "cell_type": "code",
   "execution_count": 45,
   "metadata": {},
   "outputs": [],
   "source": [
    "#df_agg.dtypes"
   ]
  },
  {
   "cell_type": "code",
   "execution_count": 46,
   "metadata": {},
   "outputs": [],
   "source": [
    "#(df_agg\n",
    "# .groupby(\"area\", \"source\")\n",
    "# .agg({\"median_price\": \"sum\"})).plot(kind=\"bar\", color=\"red\");"
   ]
  },
  {
   "cell_type": "code",
   "execution_count": null,
   "metadata": {},
   "outputs": [],
   "source": []
  }
 ],
 "metadata": {
  "kernelspec": {
   "display_name": "Python 3",
   "language": "python",
   "name": "python3"
  },
  "language_info": {
   "codemirror_mode": {
    "name": "ipython",
    "version": 3
   },
   "file_extension": ".py",
   "mimetype": "text/x-python",
   "name": "python",
   "nbconvert_exporter": "python",
   "pygments_lexer": "ipython3",
   "version": "3.7.6"
  }
 },
 "nbformat": 4,
 "nbformat_minor": 2
}
