{
 "cells": [
  {
   "cell_type": "markdown",
   "metadata": {},
   "source": [
    "###### Import packages and csv tables"
   ]
  },
  {
   "cell_type": "code",
   "execution_count": null,
   "metadata": {},
   "outputs": [],
   "source": [
    "import pandas as pd\n",
    "import altair as alt\n",
    "from altair import *\n",
    "import numpy as np\n",
    "import plotly.express as px\n",
    "import plotly.graph_objs as go\n",
    "import matplotlib\n",
    "import matplotlib.pyplot as plt\n",
    "import seaborn as sns\n",
    "from vega_datasets import data\n",
    "\n",
    "sns.set_style(\"white\")\n",
    "%matplotlib inline"
   ]
  },
  {
   "cell_type": "code",
   "execution_count": null,
   "metadata": {},
   "outputs": [],
   "source": [
    "df = pd.read_csv('expedia_data_clean.csv', index_col=0)\n",
    "df_bp = pd.read_pickle(\"Booking_price_comparison.pkl\")\n",
    "df_air = pd.read_pickle(\"2017_airbnb_api_data_clean.pkl\")"
   ]
  },
  {
   "cell_type": "code",
   "execution_count": null,
   "metadata": {},
   "outputs": [],
   "source": [
    "#Transformatin of df. area\n",
    "df = df.replace(\"Hessenwinkel\", \"Treptow-Köpenick\")\n",
    "#rename columns\n",
    "df.columns=[\"name\", \"area\", \"price\"]\n",
    "df_bp.columns = [\"name\", \"price\", \"street\", \"area\", \"zip\"]\n",
    "df.head(2)"
   ]
  },
  {
   "cell_type": "code",
   "execution_count": null,
   "metadata": {},
   "outputs": [],
   "source": [
    "df_bp.head(2)"
   ]
  },
  {
   "cell_type": "code",
   "execution_count": null,
   "metadata": {},
   "outputs": [],
   "source": [
    "df_air.head(2)"
   ]
  },
  {
   "cell_type": "code",
   "execution_count": null,
   "metadata": {},
   "outputs": [],
   "source": [
    "# to measure the density of hotels per area, we only need the hotel and the area columns\n",
    "df_bp = df_bp.drop([ \"street\", \"zip\"], axis=1)"
   ]
  },
  {
   "cell_type": "markdown",
   "metadata": {},
   "source": [
    "##### Merge all the tables "
   ]
  },
  {
   "cell_type": "code",
   "execution_count": null,
   "metadata": {},
   "outputs": [],
   "source": [
    "merged = df.append(df_bp, ignore_index=True, sort=True)"
   ]
  },
  {
   "cell_type": "code",
   "execution_count": null,
   "metadata": {},
   "outputs": [],
   "source": [
    "#Create Column that indicates source\n",
    "merged[\"source\"] = \"hotel\"\n",
    "merged.head(2)"
   ]
  },
  {
   "cell_type": "code",
   "execution_count": null,
   "metadata": {},
   "outputs": [],
   "source": [
    "merged.head(2)"
   ]
  },
  {
   "cell_type": "code",
   "execution_count": null,
   "metadata": {},
   "outputs": [],
   "source": [
    "merged_all = merged.append(df_air, ignore_index=True, sort = True)"
   ]
  },
  {
   "cell_type": "code",
   "execution_count": null,
   "metadata": {},
   "outputs": [],
   "source": [
    "merged_all"
   ]
  },
  {
   "cell_type": "markdown",
   "metadata": {},
   "source": [
    "##### Transformations"
   ]
  },
  {
   "cell_type": "code",
   "execution_count": null,
   "metadata": {},
   "outputs": [],
   "source": [
    "merged_all.area.unique()"
   ]
  },
  {
   "cell_type": "code",
   "execution_count": null,
   "metadata": {},
   "outputs": [],
   "source": [
    "# get rid of the € signs in price\n",
    "#merged_data_full.price.replace(regex=True,inplace=True,to_replace=r'\\D',value=r'')"
   ]
  },
  {
   "cell_type": "code",
   "execution_count": null,
   "metadata": {},
   "outputs": [],
   "source": [
    "#we have 24 duplicates\n",
    "merged_all[\"name\"].value_counts()"
   ]
  },
  {
   "cell_type": "code",
   "execution_count": null,
   "metadata": {},
   "outputs": [],
   "source": [
    "#drop duplicates\n",
    "merged_all[\"name\"] = merged_all[\"name\"].drop_duplicates()"
   ]
  },
  {
   "cell_type": "code",
   "execution_count": null,
   "metadata": {},
   "outputs": [],
   "source": [
    "merged_all[\"name\"].value_counts()"
   ]
  },
  {
   "cell_type": "markdown",
   "metadata": {},
   "source": [
    "##### Inspect Data Types"
   ]
  },
  {
   "cell_type": "code",
   "execution_count": null,
   "metadata": {},
   "outputs": [],
   "source": [
    "merged_all.dtypes"
   ]
  },
  {
   "cell_type": "code",
   "execution_count": null,
   "metadata": {},
   "outputs": [],
   "source": [
    "merged_all.area.unique()"
   ]
  },
  {
   "cell_type": "code",
   "execution_count": null,
   "metadata": {},
   "outputs": [],
   "source": [
    "#remove spacing in the fromt of area name\n",
    "merged_all.area = merged_all.area.str.lstrip()"
   ]
  },
  {
   "cell_type": "code",
   "execution_count": null,
   "metadata": {},
   "outputs": [],
   "source": [
    "#remove weird area data and rename area Berlin to unknown\n",
    "merged_all.area = merged_all.area.replace(\"Berlin\", \"unknown\")\n",
    "merged_all.area = merged_all.area.replace(\"80-82\", \"unknown\")\n",
    "merged_all.area = merged_all.area.replace(\"10787 Berlin\", \"Tempelhof-Schöneberg\")\n",
    "merged_all.area = merged_all.area.replace(\"Charlottenburg-Wilm.\", \"Charlottenburg-Wilmersdorf\")\n",
    "merged_all.area = merged_all.area.replace(\"Marzahn - Hellersdorf\", \"Marzahn-Hellersdorf\")\n",
    "merged_all.area = merged_all.area.replace(\"Steglitz - Zehlendorf\", \"Steglitz-Zehlendorf\")\n",
    "merged_all.area = merged_all.area.replace(\"Tempelhof - Schöneberg\", \"Tempelhof-Schöneberg\")\n",
    "merged_all.area = merged_all.area.replace(\"Treptow - Köpenick\", \"Treptow-Köpenick\")\n",
    "merged_all.area = merged_all.area.replace(\"Prenzlauer Berg\", \"Pankow\")"
   ]
  },
  {
   "cell_type": "code",
   "execution_count": null,
   "metadata": {},
   "outputs": [],
   "source": [
    "merged_all.area.unique()"
   ]
  },
  {
   "cell_type": "code",
   "execution_count": null,
   "metadata": {},
   "outputs": [],
   "source": [
    "# save price as int\n",
    "merged_all[\"price\"] = merged_all[\"price\"].astype(\"float\")"
   ]
  },
  {
   "cell_type": "code",
   "execution_count": null,
   "metadata": {},
   "outputs": [],
   "source": [
    "merged_all"
   ]
  },
  {
   "cell_type": "markdown",
   "metadata": {},
   "source": [
    "##### Descriptive Statistics"
   ]
  },
  {
   "cell_type": "code",
   "execution_count": null,
   "metadata": {},
   "outputs": [],
   "source": [
    "# Price comparison between hotels and air bnb\n",
    "price_chart = merged_all.groupby([\"area\", \"source\"]).median().unstack().plot(figsize=(10,6),kind=\"bar\");\n",
    "price_chart;\n",
    "plt.legend();\n",
    "plt.xlabel(\"Area\", size = 15);\n",
    "plt.ylabel(\" Median Price in €\", size = 15);\n",
    "plt.title(\"Hotel and AirBnB Prices/Night per Area in Berlin\", size = 20);\n",
    "plt.xticks(rotation=50)"
   ]
  },
  {
   "cell_type": "code",
   "execution_count": null,
   "metadata": {},
   "outputs": [],
   "source": [
    "# here we can clearly see the difference in price\n",
    "merged_all.groupby([\"area\", \"source\"]).median().unstack().plot.bar(figsize=(10,6),stacked=True)\n",
    "plt.legend();\n",
    "plt.xlabel(\"Area\", size = 15);\n",
    "plt.ylabel(\"Median Price in €\", size = 15);\n",
    "plt.title(\"Hotel and AirBnB Prices/Night per Area in Berlin\", size = 20);\n",
    "plt.xticks(rotation=50)"
   ]
  },
  {
   "cell_type": "code",
   "execution_count": null,
   "metadata": {},
   "outputs": [],
   "source": [
    "# density comparison between hotels and air bnb\n",
    "density_chart = merged_all.sort_values([\"area\", \"source\"]).reset_index(drop=True).groupby([\"area\", \"source\"]).size().unstack().plot(figsize=(10,16),kind=\"bar\");\n",
    "density_chart;\n",
    "plt.legend();\n",
    "plt.xlabel(\"Area\", size = 15);\n",
    "plt.ylabel(\"Number of Listings\", size = 15);\n",
    "plt.title(\"Hotel and AirBnB Listings per Area in Berlin\", size = 20);\n",
    "plt.xticks(rotation=50)"
   ]
  },
  {
   "cell_type": "code",
   "execution_count": null,
   "metadata": {},
   "outputs": [],
   "source": [
    "# hstogram is no use to us here \n",
    "merged_all.sort_values([\"area\", \"source\"]).reset_index(drop=True).groupby([\"area\", \"source\"]).size().unstack().plot.hist(alpha=0.5);"
   ]
  },
  {
   "cell_type": "code",
   "execution_count": null,
   "metadata": {},
   "outputs": [],
   "source": [
    "#merged_data_full.boxplot(column=\"price\")\n",
    "\n",
    "#we have outliers - might consider a drop of the one thats 600+ per night"
   ]
  },
  {
   "cell_type": "code",
   "execution_count": null,
   "metadata": {},
   "outputs": [],
   "source": [
    "#merged_all"
   ]
  },
  {
   "cell_type": "code",
   "execution_count": null,
   "metadata": {},
   "outputs": [],
   "source": [
    "# number of hotels and air bnb's per area\n",
    "#n = merged_all.groupby([\"area\",\"source\"]).size()\n",
    "#n"
   ]
  },
  {
   "cell_type": "code",
   "execution_count": null,
   "metadata": {
    "scrolled": false
   },
   "outputs": [],
   "source": [
    "#n.agg(\"n.size()\").reset_index().plot(kind=\"bar\");"
   ]
  },
  {
   "cell_type": "code",
   "execution_count": null,
   "metadata": {},
   "outputs": [],
   "source": [
    "#chart = Chart(merged_all).mark_bar().encode(column=Column(\"source\"), x=X(\"area\"), y=Y(\"name\"), color=Color(\"source\", scale=Scale(range=['#EA98D2', '#659CCA']))).configure_facet_cell(strokeWidth=0.0,)\n",
    "\n",
    "#chart.display()"
   ]
  },
  {
   "cell_type": "code",
   "execution_count": null,
   "metadata": {},
   "outputs": [],
   "source": [
    "#merged_data_full['area'].value_counts().plot.bar()\n",
    "\n",
    "#merged_data_full[['area','source']].plot(kind='bar')\n",
    "\n",
    "#most hotels are in Mitte & Charlottenburg "
   ]
  },
  {
   "cell_type": "code",
   "execution_count": null,
   "metadata": {},
   "outputs": [],
   "source": [
    "#hotel_li=[merged_data_full[merged_data_full[\"source\"] == \"hotel\"].count()]\n",
    "#airbnb_li=[merged_data_full[merged_data_full[\"source\"] == \"airbnb\"].count()]\n",
    "#index_area = [merged_data_full[\"area\"]]\n",
    "#df_area = pd.DataFrame({'hotel': hotel_li, 'airbnb': airbnb_li}, index=index_area)\n",
    "#ax = merged_data_full.plot.bar(rot=0)"
   ]
  },
  {
   "cell_type": "code",
   "execution_count": null,
   "metadata": {},
   "outputs": [],
   "source": [
    "#[merged_data_full[merged_data_full[\"source\"] == \"hotel\"].groupby([\"area\"]).count()]"
   ]
  },
  {
   "cell_type": "code",
   "execution_count": null,
   "metadata": {},
   "outputs": [],
   "source": [
    "#hotel_li = (merged_data_full[[\"area\",\"source\"]]\n",
    "#          .groupby([\"area\", \"source\"])\n",
    "#          .agg({\"source\": [\"count\"]}))\n",
    "\n",
    "#hotel_li"
   ]
  },
  {
   "cell_type": "code",
   "execution_count": null,
   "metadata": {},
   "outputs": [],
   "source": [
    "#hotel_li = []\n",
    "#i = 0\n",
    "#for merged_data_full['source'].iloc[i] in merged_data_full['source'] == \"hotel\":\n",
    "#    (merged_data_full[[\"area\",\"source\"]]\n",
    "#          .groupby([\"area\", \"source\"])\n",
    " #         .agg({(\"source\"): [\"count\"]}))\n",
    "  #  hotel_li.append(merged_data_full['source'].iloc[i])\n",
    "   # i +=1\n",
    "#\n",
    "#hotel_li"
   ]
  },
  {
   "cell_type": "code",
   "execution_count": null,
   "metadata": {},
   "outputs": [],
   "source": [
    "#[merged_data_full[merged_data_full[\"source\"] == \"hotel\"].groupby(\"area\").count()]"
   ]
  },
  {
   "cell_type": "markdown",
   "metadata": {},
   "source": [
    "##### Create aggregate Dataset for plotting "
   ]
  },
  {
   "cell_type": "code",
   "execution_count": null,
   "metadata": {},
   "outputs": [],
   "source": [
    "#df_agg = (merged_data_full[[\"area\", \"price\", \"source\"]]\n",
    " #         .groupby([\"area\", \"source\"])\n",
    "  #        .agg({\"price\": [\"median\", \"count\"]}))\n",
    "#\n",
    "#df_agg = (df_agg\n",
    "#          .reset_index())\n",
    "#df_agg.head()"
   ]
  },
  {
   "cell_type": "markdown",
   "metadata": {},
   "source": [
    "##### remove weird indexes"
   ]
  },
  {
   "cell_type": "code",
   "execution_count": null,
   "metadata": {},
   "outputs": [],
   "source": [
    "#df_agg.columns"
   ]
  },
  {
   "cell_type": "code",
   "execution_count": null,
   "metadata": {},
   "outputs": [],
   "source": [
    "#list(df_agg.columns.to_flat_index())"
   ]
  },
  {
   "cell_type": "code",
   "execution_count": null,
   "metadata": {},
   "outputs": [],
   "source": [
    "#[first+second for first, second in df_agg.columns]"
   ]
  },
  {
   "cell_type": "code",
   "execution_count": null,
   "metadata": {},
   "outputs": [],
   "source": [
    "#df_agg.columns = [first+second for first, second in df_agg.columns.to_flat_index()]"
   ]
  },
  {
   "cell_type": "code",
   "execution_count": null,
   "metadata": {},
   "outputs": [],
   "source": [
    "#df_agg = df_agg.rename(columns={\"pricemedian\": \"median_price\",\n",
    "#                                \"pricecount\": \"counts\"})"
   ]
  },
  {
   "cell_type": "code",
   "execution_count": null,
   "metadata": {},
   "outputs": [],
   "source": [
    "#df_agg.dtypes"
   ]
  },
  {
   "cell_type": "code",
   "execution_count": null,
   "metadata": {},
   "outputs": [],
   "source": [
    "#(df_agg\n",
    "# .groupby(\"area\", \"source\")\n",
    "# .agg({\"median_price\": \"sum\"})).plot(kind=\"bar\", color=\"red\");"
   ]
  },
  {
   "cell_type": "code",
   "execution_count": null,
   "metadata": {},
   "outputs": [],
   "source": []
  }
 ],
 "metadata": {
  "kernelspec": {
   "display_name": "Python 3",
   "language": "python",
   "name": "python3"
  },
  "language_info": {
   "codemirror_mode": {
    "name": "ipython",
    "version": 3
   },
   "file_extension": ".py",
   "mimetype": "text/x-python",
   "name": "python",
   "nbconvert_exporter": "python",
   "pygments_lexer": "ipython3",
   "version": "3.7.6"
  }
 },
 "nbformat": 4,
 "nbformat_minor": 2
}
